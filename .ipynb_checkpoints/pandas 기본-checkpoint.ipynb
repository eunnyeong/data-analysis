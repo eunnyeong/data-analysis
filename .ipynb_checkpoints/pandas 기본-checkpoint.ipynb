{
 "cells": [
  {
   "cell_type": "code",
   "execution_count": 2,
   "metadata": {},
   "outputs": [
    {
     "data": {
      "text/plain": [
       "[10, 7, 9, -200, 15]"
      ]
     },
     "execution_count": 2,
     "metadata": {},
     "output_type": "execute_result"
    }
   ],
   "source": [
    "numbers = [10,7,9,-200, 15]\n",
    "numbers"
   ]
  },
  {
   "cell_type": "code",
   "execution_count": 6,
   "metadata": {},
   "outputs": [
    {
     "data": {
      "text/plain": [
       "[10, 7]"
      ]
     },
     "execution_count": 6,
     "metadata": {},
     "output_type": "execute_result"
    }
   ],
   "source": [
    "numbers[:2]"
   ]
  },
  {
   "cell_type": "code",
   "execution_count": 3,
   "metadata": {},
   "outputs": [
    {
     "data": {
      "text/plain": [
       "[10, 7, 9, -200, 15, -300]"
      ]
     },
     "execution_count": 3,
     "metadata": {},
     "output_type": "execute_result"
    }
   ],
   "source": [
    "numbers.append(-300)\n",
    "numbers"
   ]
  },
  {
   "cell_type": "code",
   "execution_count": 4,
   "metadata": {},
   "outputs": [
    {
     "data": {
      "text/plain": [
       "[-300, -200, 7, 9, 10, 15]"
      ]
     },
     "execution_count": 4,
     "metadata": {},
     "output_type": "execute_result"
    }
   ],
   "source": [
    "sorted(numbers)"
   ]
  },
  {
   "cell_type": "code",
   "execution_count": 22,
   "metadata": {},
   "outputs": [
    {
     "data": {
      "text/plain": [
       "'김'"
      ]
     },
     "execution_count": 22,
     "metadata": {},
     "output_type": "execute_result"
    }
   ],
   "source": [
    "학생1 = {'이름':{'성':'김','이름':'철수'}, '국어':100, '영어':90, '수학':70}\n",
    "학생1['이름']['성']"
   ]
  },
  {
   "cell_type": "code",
   "execution_count": 8,
   "metadata": {},
   "outputs": [
    {
     "data": {
      "text/plain": [
       "[{'이름': '철수', '국어': 100, '영어': 90, '수학': 70},\n",
       " {'이름': '영희', '국어': 90, '영어': 80, '수학': 60},\n",
       " {'이름': '중한', '국어': 50, '영어': 40, '수학': 100}]"
      ]
     },
     "execution_count": 8,
     "metadata": {},
     "output_type": "execute_result"
    }
   ],
   "source": [
    "학생목록 = [\n",
    "    {'이름':'철수', '국어':100, '영어':90, '수학':70},\n",
    "    {'이름':'영희', '국어':90, '영어':80, '수학':60},\n",
    "    {'이름':'중한', '국어':50, '영어':40, '수학':100},\n",
    "]\n",
    "학생목록"
   ]
  },
  {
   "cell_type": "code",
   "execution_count": 7,
   "metadata": {},
   "outputs": [
    {
     "ename": "NameError",
     "evalue": "name '학생목록' is not defined",
     "output_type": "error",
     "traceback": [
      "\u001b[1;31m---------------------------------------------------------------------------\u001b[0m",
      "\u001b[1;31mNameError\u001b[0m                                 Traceback (most recent call last)",
      "\u001b[1;32m<ipython-input-7-e8aad3ac6b5f>\u001b[0m in \u001b[0;36m<module>\u001b[1;34m\u001b[0m\n\u001b[1;32m----> 1\u001b[1;33m \u001b[0msorted\u001b[0m\u001b[1;33m(\u001b[0m\u001b[0m학생목록\u001b[0m\u001b[1;33m)\u001b[0m\u001b[1;33m\u001b[0m\u001b[0m\n\u001b[0m",
      "\u001b[1;31mNameError\u001b[0m: name '학생목록' is not defined"
     ]
    }
   ],
   "source": [
    "sorted(학생목록)"
   ]
  },
  {
   "cell_type": "code",
   "execution_count": 19,
   "metadata": {},
   "outputs": [
    {
     "data": {
      "text/plain": [
       "[{'이름': '중한', '국어': 50, '영어': 40, '수학': 100},\n",
       " {'이름': '철수', '국어': 100, '영어': 90, '수학': 70},\n",
       " {'이름': '영희', '국어': 90, '영어': 80, '수학': 60}]"
      ]
     },
     "execution_count": 19,
     "metadata": {},
     "output_type": "execute_result"
    }
   ],
   "source": [
    "def key_fn(value):\n",
    "    return value['수학'] #+ value['영어'] + value['수학']\n",
    "\n",
    "sorted(학생목록, key=key_fn, reverse=True)"
   ]
  },
  {
   "cell_type": "code",
   "execution_count": 1,
   "metadata": {},
   "outputs": [],
   "source": [
    "url = \"https://goo.gl/iDUKrL\""
   ]
  },
  {
   "cell_type": "code",
   "execution_count": 2,
   "metadata": {
    "scrolled": true
   },
   "outputs": [],
   "source": [
    "import pandas as pd"
   ]
  },
  {
   "cell_type": "code",
   "execution_count": 4,
   "metadata": {
    "scrolled": true
   },
   "outputs": [
    {
     "name": "stdout",
     "output_type": "stream",
     "text": [
      "(100, 7)\n"
     ]
    },
    {
     "data": {
      "text/html": [
       "<div>\n",
       "<style scoped>\n",
       "    .dataframe tbody tr th:only-of-type {\n",
       "        vertical-align: middle;\n",
       "    }\n",
       "\n",
       "    .dataframe tbody tr th {\n",
       "        vertical-align: top;\n",
       "    }\n",
       "\n",
       "    .dataframe thead th {\n",
       "        text-align: right;\n",
       "    }\n",
       "</style>\n",
       "<table border=\"1\" class=\"dataframe\">\n",
       "  <thead>\n",
       "    <tr style=\"text-align: right;\">\n",
       "      <th></th>\n",
       "      <th>곡일련번호</th>\n",
       "      <th>순위</th>\n",
       "      <th>앨범</th>\n",
       "      <th>곡명</th>\n",
       "      <th>가수</th>\n",
       "      <th>커버이미지_주소</th>\n",
       "      <th>좋아요</th>\n",
       "    </tr>\n",
       "  </thead>\n",
       "  <tbody>\n",
       "    <tr>\n",
       "      <td>0</td>\n",
       "      <td>31346009</td>\n",
       "      <td>1</td>\n",
       "      <td>삐삐</td>\n",
       "      <td>삐삐</td>\n",
       "      <td>아이유</td>\n",
       "      <td>https://cdnimg.melon.co.kr/cm/album/images/102...</td>\n",
       "      <td>61528</td>\n",
       "    </tr>\n",
       "    <tr>\n",
       "      <td>1</td>\n",
       "      <td>31344113</td>\n",
       "      <td>2</td>\n",
       "      <td>시간이 들겠지</td>\n",
       "      <td>시간이 들겠지 (Feat. Colde)</td>\n",
       "      <td>로꼬</td>\n",
       "      <td>https://cdnimg.melon.co.kr/cm/album/images/102...</td>\n",
       "      <td>48331</td>\n",
       "    </tr>\n",
       "    <tr>\n",
       "      <td>2</td>\n",
       "      <td>31340985</td>\n",
       "      <td>3</td>\n",
       "      <td>쇼미더머니 777 Episode 1</td>\n",
       "      <td>Good Day (Feat. 팔로알토) (Prod. 코드 쿤스트)</td>\n",
       "      <td>pH-1</td>\n",
       "      <td>https://cdnimg.melon.co.kr/cm/album/images/102...</td>\n",
       "      <td>54022</td>\n",
       "    </tr>\n",
       "    <tr>\n",
       "      <td>3</td>\n",
       "      <td>31316695</td>\n",
       "      <td>4</td>\n",
       "      <td>하루도 그대를 사랑하지 않은 적이 없었다</td>\n",
       "      <td>하루도 그대를 사랑하지 않은 적이 없었다</td>\n",
       "      <td>임창정</td>\n",
       "      <td>https://cdnimg.melon.co.kr/cm/album/images/102...</td>\n",
       "      <td>97984</td>\n",
       "    </tr>\n",
       "    <tr>\n",
       "      <td>4</td>\n",
       "      <td>31266290</td>\n",
       "      <td>5</td>\n",
       "      <td>LOVE YOURSELF 結 `Answer`</td>\n",
       "      <td>IDOL</td>\n",
       "      <td>방탄소년단</td>\n",
       "      <td>https://cdnimg.melon.co.kr/cm/album/images/101...</td>\n",
       "      <td>173279</td>\n",
       "    </tr>\n",
       "  </tbody>\n",
       "</table>\n",
       "</div>"
      ],
      "text/plain": [
       "      곡일련번호  순위                        앨범  \\\n",
       "0  31346009   1                        삐삐   \n",
       "1  31344113   2                   시간이 들겠지   \n",
       "2  31340985   3       쇼미더머니 777 Episode 1   \n",
       "3  31316695   4    하루도 그대를 사랑하지 않은 적이 없었다   \n",
       "4  31266290   5  LOVE YOURSELF 結 `Answer`   \n",
       "\n",
       "                                     곡명     가수  \\\n",
       "0                                    삐삐    아이유   \n",
       "1                 시간이 들겠지 (Feat. Colde)     로꼬   \n",
       "2  Good Day (Feat. 팔로알토) (Prod. 코드 쿤스트)   pH-1   \n",
       "3                하루도 그대를 사랑하지 않은 적이 없었다    임창정   \n",
       "4                                  IDOL  방탄소년단   \n",
       "\n",
       "                                            커버이미지_주소     좋아요  \n",
       "0  https://cdnimg.melon.co.kr/cm/album/images/102...   61528  \n",
       "1  https://cdnimg.melon.co.kr/cm/album/images/102...   48331  \n",
       "2  https://cdnimg.melon.co.kr/cm/album/images/102...   54022  \n",
       "3  https://cdnimg.melon.co.kr/cm/album/images/102...   97984  \n",
       "4  https://cdnimg.melon.co.kr/cm/album/images/101...  173279  "
      ]
     },
     "execution_count": 4,
     "metadata": {},
     "output_type": "execute_result"
    }
   ],
   "source": [
    "df = pd.read_csv(url)\n",
    "print(df.shape)\n",
    "df.head()"
   ]
  },
  {
   "cell_type": "code",
   "execution_count": 5,
   "metadata": {},
   "outputs": [
    {
     "data": {
      "text/plain": [
       "Index(['곡일련번호', '순위', '앨범', '곡명', '가수', '커버이미지_주소', '좋아요'], dtype='object')"
      ]
     },
     "execution_count": 5,
     "metadata": {},
     "output_type": "execute_result"
    }
   ],
   "source": [
    "df.columns"
   ]
  },
  {
   "cell_type": "code",
   "execution_count": 25,
   "metadata": {},
   "outputs": [
    {
     "data": {
      "text/plain": [
       "57"
      ]
     },
     "execution_count": 25,
     "metadata": {},
     "output_type": "execute_result"
    }
   ],
   "source": [
    "len(df['가수'].value_counts())"
   ]
  },
  {
   "cell_type": "code",
   "execution_count": 26,
   "metadata": {},
   "outputs": [
    {
     "data": {
      "text/plain": [
       "방탄소년단              14\n",
       "뉴이스트 W              8\n",
       "Wanna One (워너원)     5\n",
       "멜로망스                4\n",
       "iKON                3\n",
       "Name: 가수, dtype: int64"
      ]
     },
     "execution_count": 26,
     "metadata": {},
     "output_type": "execute_result"
    }
   ],
   "source": [
    "df['가수'].value_counts()[:5]"
   ]
  },
  {
   "cell_type": "code",
   "execution_count": 12,
   "metadata": {},
   "outputs": [
    {
     "data": {
      "text/plain": [
       "<matplotlib.axes._subplots.AxesSubplot at 0xd59a188cc0>"
      ]
     },
     "execution_count": 12,
     "metadata": {},
     "output_type": "execute_result"
    },
    {
     "data": {
      "image/png": "[encoded data removed]",
      "text/plain": [
       "<Figure size 432x288 with 1 Axes>"
      ]
     },
     "metadata": {},
     "output_type": "display_data"
    }
   ],
   "source": [
    "%matplotlib inline\n",
    "import matplotlib.pyplot as plt\n",
    "plt.rc('font', family='Malgun Gothic')\n",
    "\n",
    "df['가수'].value_counts()[:10].plot(kind='pie')"
   ]
  },
  {
   "cell_type": "code",
   "execution_count": 14,
   "metadata": {},
   "outputs": [
    {
     "data": {
      "text/html": [
       "<div>\n",
       "<style scoped>\n",
       "    .dataframe tbody tr th:only-of-type {\n",
       "        vertical-align: middle;\n",
       "    }\n",
       "\n",
       "    .dataframe tbody tr th {\n",
       "        vertical-align: top;\n",
       "    }\n",
       "\n",
       "    .dataframe thead th {\n",
       "        text-align: right;\n",
       "    }\n",
       "</style>\n",
       "<table border=\"1\" class=\"dataframe\">\n",
       "  <thead>\n",
       "    <tr style=\"text-align: right;\">\n",
       "      <th></th>\n",
       "      <th>좋아요</th>\n",
       "    </tr>\n",
       "  </thead>\n",
       "  <tbody>\n",
       "    <tr>\n",
       "      <td>0</td>\n",
       "      <td>61528</td>\n",
       "    </tr>\n",
       "    <tr>\n",
       "      <td>1</td>\n",
       "      <td>48331</td>\n",
       "    </tr>\n",
       "    <tr>\n",
       "      <td>2</td>\n",
       "      <td>54022</td>\n",
       "    </tr>\n",
       "    <tr>\n",
       "      <td>3</td>\n",
       "      <td>97984</td>\n",
       "    </tr>\n",
       "    <tr>\n",
       "      <td>4</td>\n",
       "      <td>173279</td>\n",
       "    </tr>\n",
       "    <tr>\n",
       "      <td>...</td>\n",
       "      <td>...</td>\n",
       "    </tr>\n",
       "    <tr>\n",
       "      <td>95</td>\n",
       "      <td>145494</td>\n",
       "    </tr>\n",
       "    <tr>\n",
       "      <td>96</td>\n",
       "      <td>26136</td>\n",
       "    </tr>\n",
       "    <tr>\n",
       "      <td>97</td>\n",
       "      <td>42853</td>\n",
       "    </tr>\n",
       "    <tr>\n",
       "      <td>98</td>\n",
       "      <td>26091</td>\n",
       "    </tr>\n",
       "    <tr>\n",
       "      <td>99</td>\n",
       "      <td>81556</td>\n",
       "    </tr>\n",
       "  </tbody>\n",
       "</table>\n",
       "<p>100 rows × 1 columns</p>\n",
       "</div>"
      ],
      "text/plain": [
       "       좋아요\n",
       "0    61528\n",
       "1    48331\n",
       "2    54022\n",
       "3    97984\n",
       "4   173279\n",
       "..     ...\n",
       "95  145494\n",
       "96   26136\n",
       "97   42853\n",
       "98   26091\n",
       "99   81556\n",
       "\n",
       "[100 rows x 1 columns]"
      ]
     },
     "execution_count": 14,
     "metadata": {},
     "output_type": "execute_result"
    }
   ],
   "source": [
    "df[['좋아요']]"
   ]
  },
  {
   "cell_type": "code",
   "execution_count": 32,
   "metadata": {},
   "outputs": [
    {
     "data": {
      "text/html": [
       "<div>\n",
       "<style scoped>\n",
       "    .dataframe tbody tr th:only-of-type {\n",
       "        vertical-align: middle;\n",
       "    }\n",
       "\n",
       "    .dataframe tbody tr th {\n",
       "        vertical-align: top;\n",
       "    }\n",
       "\n",
       "    .dataframe thead th {\n",
       "        text-align: right;\n",
       "    }\n",
       "</style>\n",
       "<table border=\"1\" class=\"dataframe\">\n",
       "  <thead>\n",
       "    <tr style=\"text-align: right;\">\n",
       "      <th></th>\n",
       "      <th>좋아요</th>\n",
       "      <th>가수</th>\n",
       "      <th>곡명</th>\n",
       "    </tr>\n",
       "  </thead>\n",
       "  <tbody>\n",
       "    <tr>\n",
       "      <td>0</td>\n",
       "      <td>61528</td>\n",
       "      <td>아이유</td>\n",
       "      <td>삐삐</td>\n",
       "    </tr>\n",
       "    <tr>\n",
       "      <td>1</td>\n",
       "      <td>48331</td>\n",
       "      <td>로꼬</td>\n",
       "      <td>시간이 들겠지 (Feat. Colde)</td>\n",
       "    </tr>\n",
       "    <tr>\n",
       "      <td>2</td>\n",
       "      <td>54022</td>\n",
       "      <td>pH-1</td>\n",
       "      <td>Good Day (Feat. 팔로알토) (Prod. 코드 쿤스트)</td>\n",
       "    </tr>\n",
       "    <tr>\n",
       "      <td>3</td>\n",
       "      <td>97984</td>\n",
       "      <td>임창정</td>\n",
       "      <td>하루도 그대를 사랑하지 않은 적이 없었다</td>\n",
       "    </tr>\n",
       "    <tr>\n",
       "      <td>4</td>\n",
       "      <td>173279</td>\n",
       "      <td>방탄소년단</td>\n",
       "      <td>IDOL</td>\n",
       "    </tr>\n",
       "    <tr>\n",
       "      <td>...</td>\n",
       "      <td>...</td>\n",
       "      <td>...</td>\n",
       "      <td>...</td>\n",
       "    </tr>\n",
       "    <tr>\n",
       "      <td>95</td>\n",
       "      <td>145494</td>\n",
       "      <td>마마무(Mamamoo)</td>\n",
       "      <td>별이 빛나는 밤</td>\n",
       "    </tr>\n",
       "    <tr>\n",
       "      <td>96</td>\n",
       "      <td>26136</td>\n",
       "      <td>뉴이스트 W</td>\n",
       "      <td>ylenoL</td>\n",
       "    </tr>\n",
       "    <tr>\n",
       "      <td>97</td>\n",
       "      <td>42853</td>\n",
       "      <td>소녀시대-Oh!GG</td>\n",
       "      <td>몰랐니 (Lil` Touch)</td>\n",
       "    </tr>\n",
       "    <tr>\n",
       "      <td>98</td>\n",
       "      <td>26091</td>\n",
       "      <td>뉴이스트 W</td>\n",
       "      <td>중력달 (Gravity&amp;Moon;)</td>\n",
       "    </tr>\n",
       "    <tr>\n",
       "      <td>99</td>\n",
       "      <td>81556</td>\n",
       "      <td>EXO</td>\n",
       "      <td>Stay</td>\n",
       "    </tr>\n",
       "  </tbody>\n",
       "</table>\n",
       "<p>100 rows × 3 columns</p>\n",
       "</div>"
      ],
      "text/plain": [
       "       좋아요            가수                                    곡명\n",
       "0    61528           아이유                                    삐삐\n",
       "1    48331            로꼬                 시간이 들겠지 (Feat. Colde)\n",
       "2    54022          pH-1  Good Day (Feat. 팔로알토) (Prod. 코드 쿤스트)\n",
       "3    97984           임창정                하루도 그대를 사랑하지 않은 적이 없었다\n",
       "4   173279         방탄소년단                                  IDOL\n",
       "..     ...           ...                                   ...\n",
       "95  145494  마마무(Mamamoo)                              별이 빛나는 밤\n",
       "96   26136        뉴이스트 W                                ylenoL\n",
       "97   42853    소녀시대-Oh!GG                      몰랐니 (Lil` Touch)\n",
       "98   26091        뉴이스트 W                   중력달 (Gravity&Moon;)\n",
       "99   81556           EXO                                  Stay\n",
       "\n",
       "[100 rows x 3 columns]"
      ]
     },
     "execution_count": 32,
     "metadata": {},
     "output_type": "execute_result"
    }
   ],
   "source": [
    "df[['좋아요','가수','곡명']]"
   ]
  },
  {
   "cell_type": "code",
   "execution_count": 33,
   "metadata": {},
   "outputs": [
    {
     "data": {
      "text/plain": [
       "RangeIndex(start=0, stop=100, step=1)"
      ]
     },
     "execution_count": 33,
     "metadata": {},
     "output_type": "execute_result"
    }
   ],
   "source": [
    "df.index"
   ]
  },
  {
   "cell_type": "code",
   "execution_count": 34,
   "metadata": {},
   "outputs": [],
   "source": [
    "df = df.set_index('곡일련번호')"
   ]
  },
  {
   "cell_type": "code",
   "execution_count": 35,
   "metadata": {},
   "outputs": [
    {
     "data": {
      "text/html": [
       "<div>\n",
       "<style scoped>\n",
       "    .dataframe tbody tr th:only-of-type {\n",
       "        vertical-align: middle;\n",
       "    }\n",
       "\n",
       "    .dataframe tbody tr th {\n",
       "        vertical-align: top;\n",
       "    }\n",
       "\n",
       "    .dataframe thead th {\n",
       "        text-align: right;\n",
       "    }\n",
       "</style>\n",
       "<table border=\"1\" class=\"dataframe\">\n",
       "  <thead>\n",
       "    <tr style=\"text-align: right;\">\n",
       "      <th></th>\n",
       "      <th>level_0</th>\n",
       "      <th>index</th>\n",
       "      <th>순위</th>\n",
       "      <th>앨범</th>\n",
       "      <th>곡명</th>\n",
       "      <th>가수</th>\n",
       "      <th>커버이미지_주소</th>\n",
       "      <th>좋아요</th>\n",
       "    </tr>\n",
       "    <tr>\n",
       "      <th>곡일련번호</th>\n",
       "      <th></th>\n",
       "      <th></th>\n",
       "      <th></th>\n",
       "      <th></th>\n",
       "      <th></th>\n",
       "      <th></th>\n",
       "      <th></th>\n",
       "      <th></th>\n",
       "    </tr>\n",
       "  </thead>\n",
       "  <tbody>\n",
       "    <tr>\n",
       "      <td>31346009</td>\n",
       "      <td>0</td>\n",
       "      <td>0</td>\n",
       "      <td>1</td>\n",
       "      <td>삐삐</td>\n",
       "      <td>삐삐</td>\n",
       "      <td>아이유</td>\n",
       "      <td>https://cdnimg.melon.co.kr/cm/album/images/102...</td>\n",
       "      <td>61528</td>\n",
       "    </tr>\n",
       "    <tr>\n",
       "      <td>31344113</td>\n",
       "      <td>1</td>\n",
       "      <td>1</td>\n",
       "      <td>2</td>\n",
       "      <td>시간이 들겠지</td>\n",
       "      <td>시간이 들겠지 (Feat. Colde)</td>\n",
       "      <td>로꼬</td>\n",
       "      <td>https://cdnimg.melon.co.kr/cm/album/images/102...</td>\n",
       "      <td>48331</td>\n",
       "    </tr>\n",
       "    <tr>\n",
       "      <td>31340985</td>\n",
       "      <td>2</td>\n",
       "      <td>2</td>\n",
       "      <td>3</td>\n",
       "      <td>쇼미더머니 777 Episode 1</td>\n",
       "      <td>Good Day (Feat. 팔로알토) (Prod. 코드 쿤스트)</td>\n",
       "      <td>pH-1</td>\n",
       "      <td>https://cdnimg.melon.co.kr/cm/album/images/102...</td>\n",
       "      <td>54022</td>\n",
       "    </tr>\n",
       "    <tr>\n",
       "      <td>31316695</td>\n",
       "      <td>3</td>\n",
       "      <td>3</td>\n",
       "      <td>4</td>\n",
       "      <td>하루도 그대를 사랑하지 않은 적이 없었다</td>\n",
       "      <td>하루도 그대를 사랑하지 않은 적이 없었다</td>\n",
       "      <td>임창정</td>\n",
       "      <td>https://cdnimg.melon.co.kr/cm/album/images/102...</td>\n",
       "      <td>97984</td>\n",
       "    </tr>\n",
       "    <tr>\n",
       "      <td>31266290</td>\n",
       "      <td>4</td>\n",
       "      <td>4</td>\n",
       "      <td>5</td>\n",
       "      <td>LOVE YOURSELF 結 `Answer`</td>\n",
       "      <td>IDOL</td>\n",
       "      <td>방탄소년단</td>\n",
       "      <td>https://cdnimg.melon.co.kr/cm/album/images/101...</td>\n",
       "      <td>173279</td>\n",
       "    </tr>\n",
       "  </tbody>\n",
       "</table>\n",
       "</div>"
      ],
      "text/plain": [
       "          level_0  index  순위                        앨범  \\\n",
       "곡일련번호                                                    \n",
       "31346009        0      0   1                        삐삐   \n",
       "31344113        1      1   2                   시간이 들겠지   \n",
       "31340985        2      2   3       쇼미더머니 777 Episode 1   \n",
       "31316695        3      3   4    하루도 그대를 사랑하지 않은 적이 없었다   \n",
       "31266290        4      4   5  LOVE YOURSELF 結 `Answer`   \n",
       "\n",
       "                                            곡명     가수  \\\n",
       "곡일련번호                                                   \n",
       "31346009                                    삐삐    아이유   \n",
       "31344113                 시간이 들겠지 (Feat. Colde)     로꼬   \n",
       "31340985  Good Day (Feat. 팔로알토) (Prod. 코드 쿤스트)   pH-1   \n",
       "31316695                하루도 그대를 사랑하지 않은 적이 없었다    임창정   \n",
       "31266290                                  IDOL  방탄소년단   \n",
       "\n",
       "                                                   커버이미지_주소     좋아요  \n",
       "곡일련번호                                                                \n",
       "31346009  https://cdnimg.melon.co.kr/cm/album/images/102...   61528  \n",
       "31344113  https://cdnimg.melon.co.kr/cm/album/images/102...   48331  \n",
       "31340985  https://cdnimg.melon.co.kr/cm/album/images/102...   54022  \n",
       "31316695  https://cdnimg.melon.co.kr/cm/album/images/102...   97984  \n",
       "31266290  https://cdnimg.melon.co.kr/cm/album/images/101...  173279  "
      ]
     },
     "execution_count": 35,
     "metadata": {},
     "output_type": "execute_result"
    }
   ],
   "source": [
    "df.head()"
   ]
  },
  {
   "cell_type": "code",
   "execution_count": 36,
   "metadata": {},
   "outputs": [
    {
     "data": {
      "text/html": [
       "<div>\n",
       "<style scoped>\n",
       "    .dataframe tbody tr th:only-of-type {\n",
       "        vertical-align: middle;\n",
       "    }\n",
       "\n",
       "    .dataframe tbody tr th {\n",
       "        vertical-align: top;\n",
       "    }\n",
       "\n",
       "    .dataframe thead th {\n",
       "        text-align: right;\n",
       "    }\n",
       "</style>\n",
       "<table border=\"1\" class=\"dataframe\">\n",
       "  <thead>\n",
       "    <tr style=\"text-align: right;\">\n",
       "      <th></th>\n",
       "      <th>곡일련번호</th>\n",
       "      <th>level_0</th>\n",
       "      <th>index</th>\n",
       "      <th>순위</th>\n",
       "      <th>앨범</th>\n",
       "      <th>곡명</th>\n",
       "      <th>가수</th>\n",
       "      <th>커버이미지_주소</th>\n",
       "      <th>좋아요</th>\n",
       "    </tr>\n",
       "  </thead>\n",
       "  <tbody>\n",
       "    <tr>\n",
       "      <td>0</td>\n",
       "      <td>31346009</td>\n",
       "      <td>0</td>\n",
       "      <td>0</td>\n",
       "      <td>1</td>\n",
       "      <td>삐삐</td>\n",
       "      <td>삐삐</td>\n",
       "      <td>아이유</td>\n",
       "      <td>https://cdnimg.melon.co.kr/cm/album/images/102...</td>\n",
       "      <td>61528</td>\n",
       "    </tr>\n",
       "    <tr>\n",
       "      <td>1</td>\n",
       "      <td>31344113</td>\n",
       "      <td>1</td>\n",
       "      <td>1</td>\n",
       "      <td>2</td>\n",
       "      <td>시간이 들겠지</td>\n",
       "      <td>시간이 들겠지 (Feat. Colde)</td>\n",
       "      <td>로꼬</td>\n",
       "      <td>https://cdnimg.melon.co.kr/cm/album/images/102...</td>\n",
       "      <td>48331</td>\n",
       "    </tr>\n",
       "    <tr>\n",
       "      <td>2</td>\n",
       "      <td>31340985</td>\n",
       "      <td>2</td>\n",
       "      <td>2</td>\n",
       "      <td>3</td>\n",
       "      <td>쇼미더머니 777 Episode 1</td>\n",
       "      <td>Good Day (Feat. 팔로알토) (Prod. 코드 쿤스트)</td>\n",
       "      <td>pH-1</td>\n",
       "      <td>https://cdnimg.melon.co.kr/cm/album/images/102...</td>\n",
       "      <td>54022</td>\n",
       "    </tr>\n",
       "    <tr>\n",
       "      <td>3</td>\n",
       "      <td>31316695</td>\n",
       "      <td>3</td>\n",
       "      <td>3</td>\n",
       "      <td>4</td>\n",
       "      <td>하루도 그대를 사랑하지 않은 적이 없었다</td>\n",
       "      <td>하루도 그대를 사랑하지 않은 적이 없었다</td>\n",
       "      <td>임창정</td>\n",
       "      <td>https://cdnimg.melon.co.kr/cm/album/images/102...</td>\n",
       "      <td>97984</td>\n",
       "    </tr>\n",
       "    <tr>\n",
       "      <td>4</td>\n",
       "      <td>31266290</td>\n",
       "      <td>4</td>\n",
       "      <td>4</td>\n",
       "      <td>5</td>\n",
       "      <td>LOVE YOURSELF 結 `Answer`</td>\n",
       "      <td>IDOL</td>\n",
       "      <td>방탄소년단</td>\n",
       "      <td>https://cdnimg.melon.co.kr/cm/album/images/101...</td>\n",
       "      <td>173279</td>\n",
       "    </tr>\n",
       "  </tbody>\n",
       "</table>\n",
       "</div>"
      ],
      "text/plain": [
       "      곡일련번호  level_0  index  순위                        앨범  \\\n",
       "0  31346009        0      0   1                        삐삐   \n",
       "1  31344113        1      1   2                   시간이 들겠지   \n",
       "2  31340985        2      2   3       쇼미더머니 777 Episode 1   \n",
       "3  31316695        3      3   4    하루도 그대를 사랑하지 않은 적이 없었다   \n",
       "4  31266290        4      4   5  LOVE YOURSELF 結 `Answer`   \n",
       "\n",
       "                                     곡명     가수  \\\n",
       "0                                    삐삐    아이유   \n",
       "1                 시간이 들겠지 (Feat. Colde)     로꼬   \n",
       "2  Good Day (Feat. 팔로알토) (Prod. 코드 쿤스트)   pH-1   \n",
       "3                하루도 그대를 사랑하지 않은 적이 없었다    임창정   \n",
       "4                                  IDOL  방탄소년단   \n",
       "\n",
       "                                            커버이미지_주소     좋아요  \n",
       "0  https://cdnimg.melon.co.kr/cm/album/images/102...   61528  \n",
       "1  https://cdnimg.melon.co.kr/cm/album/images/102...   48331  \n",
       "2  https://cdnimg.melon.co.kr/cm/album/images/102...   54022  \n",
       "3  https://cdnimg.melon.co.kr/cm/album/images/102...   97984  \n",
       "4  https://cdnimg.melon.co.kr/cm/album/images/101...  173279  "
      ]
     },
     "execution_count": 36,
     "metadata": {},
     "output_type": "execute_result"
    }
   ],
   "source": [
    "df = df.reset_index()\n",
    "df.head()"
   ]
  },
  {
   "cell_type": "code",
   "execution_count": 37,
   "metadata": {
    "scrolled": true
   },
   "outputs": [
    {
     "name": "stdout",
     "output_type": "stream",
     "text": [
      "(100, 8)\n"
     ]
    },
    {
     "data": {
      "text/html": [
       "<div>\n",
       "<style scoped>\n",
       "    .dataframe tbody tr th:only-of-type {\n",
       "        vertical-align: middle;\n",
       "    }\n",
       "\n",
       "    .dataframe tbody tr th {\n",
       "        vertical-align: top;\n",
       "    }\n",
       "\n",
       "    .dataframe thead th {\n",
       "        text-align: right;\n",
       "    }\n",
       "</style>\n",
       "<table border=\"1\" class=\"dataframe\">\n",
       "  <thead>\n",
       "    <tr style=\"text-align: right;\">\n",
       "      <th></th>\n",
       "      <th>level_0</th>\n",
       "      <th>index</th>\n",
       "      <th>순위</th>\n",
       "      <th>앨범</th>\n",
       "      <th>곡명</th>\n",
       "      <th>가수</th>\n",
       "      <th>커버이미지_주소</th>\n",
       "      <th>좋아요</th>\n",
       "    </tr>\n",
       "    <tr>\n",
       "      <th>곡일련번호</th>\n",
       "      <th></th>\n",
       "      <th></th>\n",
       "      <th></th>\n",
       "      <th></th>\n",
       "      <th></th>\n",
       "      <th></th>\n",
       "      <th></th>\n",
       "      <th></th>\n",
       "    </tr>\n",
       "  </thead>\n",
       "  <tbody>\n",
       "    <tr>\n",
       "      <td>31346009</td>\n",
       "      <td>0</td>\n",
       "      <td>0</td>\n",
       "      <td>1</td>\n",
       "      <td>삐삐</td>\n",
       "      <td>삐삐</td>\n",
       "      <td>아이유</td>\n",
       "      <td>https://cdnimg.melon.co.kr/cm/album/images/102...</td>\n",
       "      <td>61528</td>\n",
       "    </tr>\n",
       "    <tr>\n",
       "      <td>31344113</td>\n",
       "      <td>1</td>\n",
       "      <td>1</td>\n",
       "      <td>2</td>\n",
       "      <td>시간이 들겠지</td>\n",
       "      <td>시간이 들겠지 (Feat. Colde)</td>\n",
       "      <td>로꼬</td>\n",
       "      <td>https://cdnimg.melon.co.kr/cm/album/images/102...</td>\n",
       "      <td>48331</td>\n",
       "    </tr>\n",
       "    <tr>\n",
       "      <td>31340985</td>\n",
       "      <td>2</td>\n",
       "      <td>2</td>\n",
       "      <td>3</td>\n",
       "      <td>쇼미더머니 777 Episode 1</td>\n",
       "      <td>Good Day (Feat. 팔로알토) (Prod. 코드 쿤스트)</td>\n",
       "      <td>pH-1</td>\n",
       "      <td>https://cdnimg.melon.co.kr/cm/album/images/102...</td>\n",
       "      <td>54022</td>\n",
       "    </tr>\n",
       "    <tr>\n",
       "      <td>31316695</td>\n",
       "      <td>3</td>\n",
       "      <td>3</td>\n",
       "      <td>4</td>\n",
       "      <td>하루도 그대를 사랑하지 않은 적이 없었다</td>\n",
       "      <td>하루도 그대를 사랑하지 않은 적이 없었다</td>\n",
       "      <td>임창정</td>\n",
       "      <td>https://cdnimg.melon.co.kr/cm/album/images/102...</td>\n",
       "      <td>97984</td>\n",
       "    </tr>\n",
       "    <tr>\n",
       "      <td>31266290</td>\n",
       "      <td>4</td>\n",
       "      <td>4</td>\n",
       "      <td>5</td>\n",
       "      <td>LOVE YOURSELF 結 `Answer`</td>\n",
       "      <td>IDOL</td>\n",
       "      <td>방탄소년단</td>\n",
       "      <td>https://cdnimg.melon.co.kr/cm/album/images/101...</td>\n",
       "      <td>173279</td>\n",
       "    </tr>\n",
       "  </tbody>\n",
       "</table>\n",
       "</div>"
      ],
      "text/plain": [
       "          level_0  index  순위                        앨범  \\\n",
       "곡일련번호                                                    \n",
       "31346009        0      0   1                        삐삐   \n",
       "31344113        1      1   2                   시간이 들겠지   \n",
       "31340985        2      2   3       쇼미더머니 777 Episode 1   \n",
       "31316695        3      3   4    하루도 그대를 사랑하지 않은 적이 없었다   \n",
       "31266290        4      4   5  LOVE YOURSELF 結 `Answer`   \n",
       "\n",
       "                                            곡명     가수  \\\n",
       "곡일련번호                                                   \n",
       "31346009                                    삐삐    아이유   \n",
       "31344113                 시간이 들겠지 (Feat. Colde)     로꼬   \n",
       "31340985  Good Day (Feat. 팔로알토) (Prod. 코드 쿤스트)   pH-1   \n",
       "31316695                하루도 그대를 사랑하지 않은 적이 없었다    임창정   \n",
       "31266290                                  IDOL  방탄소년단   \n",
       "\n",
       "                                                   커버이미지_주소     좋아요  \n",
       "곡일련번호                                                                \n",
       "31346009  https://cdnimg.melon.co.kr/cm/album/images/102...   61528  \n",
       "31344113  https://cdnimg.melon.co.kr/cm/album/images/102...   48331  \n",
       "31340985  https://cdnimg.melon.co.kr/cm/album/images/102...   54022  \n",
       "31316695  https://cdnimg.melon.co.kr/cm/album/images/102...   97984  \n",
       "31266290  https://cdnimg.melon.co.kr/cm/album/images/101...  173279  "
      ]
     },
     "execution_count": 37,
     "metadata": {},
     "output_type": "execute_result"
    }
   ],
   "source": [
    "df = df.set_index('곡일련번호')\n",
    "print(df.shape)\n",
    "df.head()"
   ]
  },
  {
   "cell_type": "code",
   "execution_count": null,
   "metadata": {},
   "outputs": [],
   "source": []
  },
  {
   "cell_type": "code",
   "execution_count": 38,
   "metadata": {},
   "outputs": [
    {
     "data": {
      "text/plain": [
       "level_0                                                     1\n",
       "index                                                       1\n",
       "순위                                                          2\n",
       "앨범                                                    시간이 들겠지\n",
       "곡명                                      시간이 들겠지 (Feat. Colde)\n",
       "가수                                                         로꼬\n",
       "커버이미지_주소    https://cdnimg.melon.co.kr/cm/album/images/102...\n",
       "좋아요                                                     48331\n",
       "Name: 31344113, dtype: object"
      ]
     },
     "execution_count": 38,
     "metadata": {},
     "output_type": "execute_result"
    }
   ],
   "source": [
    "df.loc[31344113] #loc 붙이면 index"
   ]
  },
  {
   "cell_type": "code",
   "execution_count": 39,
   "metadata": {},
   "outputs": [
    {
     "data": {
      "text/plain": [
       "'시간이 들겠지 (Feat. Colde)'"
      ]
     },
     "execution_count": 39,
     "metadata": {},
     "output_type": "execute_result"
    }
   ],
   "source": [
    "df.loc[31344113]['곡명']"
   ]
  },
  {
   "cell_type": "code",
   "execution_count": 40,
   "metadata": {},
   "outputs": [
    {
     "data": {
      "text/html": [
       "<div>\n",
       "<style scoped>\n",
       "    .dataframe tbody tr th:only-of-type {\n",
       "        vertical-align: middle;\n",
       "    }\n",
       "\n",
       "    .dataframe tbody tr th {\n",
       "        vertical-align: top;\n",
       "    }\n",
       "\n",
       "    .dataframe thead th {\n",
       "        text-align: right;\n",
       "    }\n",
       "</style>\n",
       "<table border=\"1\" class=\"dataframe\">\n",
       "  <thead>\n",
       "    <tr style=\"text-align: right;\">\n",
       "      <th></th>\n",
       "      <th>level_0</th>\n",
       "      <th>index</th>\n",
       "      <th>순위</th>\n",
       "      <th>앨범</th>\n",
       "      <th>곡명</th>\n",
       "      <th>가수</th>\n",
       "      <th>커버이미지_주소</th>\n",
       "      <th>좋아요</th>\n",
       "    </tr>\n",
       "    <tr>\n",
       "      <th>곡일련번호</th>\n",
       "      <th></th>\n",
       "      <th></th>\n",
       "      <th></th>\n",
       "      <th></th>\n",
       "      <th></th>\n",
       "      <th></th>\n",
       "      <th></th>\n",
       "      <th></th>\n",
       "    </tr>\n",
       "  </thead>\n",
       "  <tbody>\n",
       "    <tr>\n",
       "      <td>31344113</td>\n",
       "      <td>1</td>\n",
       "      <td>1</td>\n",
       "      <td>2</td>\n",
       "      <td>시간이 들겠지</td>\n",
       "      <td>시간이 들겠지 (Feat. Colde)</td>\n",
       "      <td>로꼬</td>\n",
       "      <td>https://cdnimg.melon.co.kr/cm/album/images/102...</td>\n",
       "      <td>48331</td>\n",
       "    </tr>\n",
       "    <tr>\n",
       "      <td>31316695</td>\n",
       "      <td>3</td>\n",
       "      <td>3</td>\n",
       "      <td>4</td>\n",
       "      <td>하루도 그대를 사랑하지 않은 적이 없었다</td>\n",
       "      <td>하루도 그대를 사랑하지 않은 적이 없었다</td>\n",
       "      <td>임창정</td>\n",
       "      <td>https://cdnimg.melon.co.kr/cm/album/images/102...</td>\n",
       "      <td>97984</td>\n",
       "    </tr>\n",
       "  </tbody>\n",
       "</table>\n",
       "</div>"
      ],
      "text/plain": [
       "          level_0  index  순위                      앨범                      곡명  \\\n",
       "곡일련번호                                                                          \n",
       "31344113        1      1   2                 시간이 들겠지   시간이 들겠지 (Feat. Colde)   \n",
       "31316695        3      3   4  하루도 그대를 사랑하지 않은 적이 없었다  하루도 그대를 사랑하지 않은 적이 없었다   \n",
       "\n",
       "           가수                                           커버이미지_주소    좋아요  \n",
       "곡일련번호                                                                    \n",
       "31344113   로꼬  https://cdnimg.melon.co.kr/cm/album/images/102...  48331  \n",
       "31316695  임창정  https://cdnimg.melon.co.kr/cm/album/images/102...  97984  "
      ]
     },
     "execution_count": 40,
     "metadata": {},
     "output_type": "execute_result"
    }
   ],
   "source": [
    "df.loc[[31344113,31316695]]"
   ]
  },
  {
   "cell_type": "code",
   "execution_count": 41,
   "metadata": {},
   "outputs": [
    {
     "data": {
      "text/html": [
       "<div>\n",
       "<style scoped>\n",
       "    .dataframe tbody tr th:only-of-type {\n",
       "        vertical-align: middle;\n",
       "    }\n",
       "\n",
       "    .dataframe tbody tr th {\n",
       "        vertical-align: top;\n",
       "    }\n",
       "\n",
       "    .dataframe thead th {\n",
       "        text-align: right;\n",
       "    }\n",
       "</style>\n",
       "<table border=\"1\" class=\"dataframe\">\n",
       "  <thead>\n",
       "    <tr style=\"text-align: right;\">\n",
       "      <th></th>\n",
       "      <th>level_0</th>\n",
       "      <th>index</th>\n",
       "      <th>순위</th>\n",
       "      <th>앨범</th>\n",
       "      <th>곡명</th>\n",
       "      <th>가수</th>\n",
       "      <th>커버이미지_주소</th>\n",
       "      <th>좋아요</th>\n",
       "    </tr>\n",
       "    <tr>\n",
       "      <th>곡일련번호</th>\n",
       "      <th></th>\n",
       "      <th></th>\n",
       "      <th></th>\n",
       "      <th></th>\n",
       "      <th></th>\n",
       "      <th></th>\n",
       "      <th></th>\n",
       "      <th></th>\n",
       "    </tr>\n",
       "  </thead>\n",
       "  <tbody>\n",
       "    <tr>\n",
       "      <td>31346009</td>\n",
       "      <td>0</td>\n",
       "      <td>0</td>\n",
       "      <td>1</td>\n",
       "      <td>삐삐</td>\n",
       "      <td>삐삐</td>\n",
       "      <td>아이유</td>\n",
       "      <td>https://cdnimg.melon.co.kr/cm/album/images/102...</td>\n",
       "      <td>61528</td>\n",
       "    </tr>\n",
       "    <tr>\n",
       "      <td>31344113</td>\n",
       "      <td>1</td>\n",
       "      <td>1</td>\n",
       "      <td>2</td>\n",
       "      <td>시간이 들겠지</td>\n",
       "      <td>시간이 들겠지 (Feat. Colde)</td>\n",
       "      <td>로꼬</td>\n",
       "      <td>https://cdnimg.melon.co.kr/cm/album/images/102...</td>\n",
       "      <td>48331</td>\n",
       "    </tr>\n",
       "    <tr>\n",
       "      <td>31340985</td>\n",
       "      <td>2</td>\n",
       "      <td>2</td>\n",
       "      <td>3</td>\n",
       "      <td>쇼미더머니 777 Episode 1</td>\n",
       "      <td>Good Day (Feat. 팔로알토) (Prod. 코드 쿤스트)</td>\n",
       "      <td>pH-1</td>\n",
       "      <td>https://cdnimg.melon.co.kr/cm/album/images/102...</td>\n",
       "      <td>54022</td>\n",
       "    </tr>\n",
       "  </tbody>\n",
       "</table>\n",
       "</div>"
      ],
      "text/plain": [
       "          level_0  index  순위                   앨범  \\\n",
       "곡일련번호                                               \n",
       "31346009        0      0   1                   삐삐   \n",
       "31344113        1      1   2              시간이 들겠지   \n",
       "31340985        2      2   3  쇼미더머니 777 Episode 1   \n",
       "\n",
       "                                            곡명    가수  \\\n",
       "곡일련번호                                                  \n",
       "31346009                                    삐삐   아이유   \n",
       "31344113                 시간이 들겠지 (Feat. Colde)    로꼬   \n",
       "31340985  Good Day (Feat. 팔로알토) (Prod. 코드 쿤스트)  pH-1   \n",
       "\n",
       "                                                   커버이미지_주소    좋아요  \n",
       "곡일련번호                                                               \n",
       "31346009  https://cdnimg.melon.co.kr/cm/album/images/102...  61528  \n",
       "31344113  https://cdnimg.melon.co.kr/cm/album/images/102...  48331  \n",
       "31340985  https://cdnimg.melon.co.kr/cm/album/images/102...  54022  "
      ]
     },
     "execution_count": 41,
     "metadata": {},
     "output_type": "execute_result"
    }
   ],
   "source": [
    "df.loc[:31340985]"
   ]
  },
  {
   "cell_type": "code",
   "execution_count": 42,
   "metadata": {},
   "outputs": [
    {
     "data": {
      "text/html": [
       "<div>\n",
       "<style scoped>\n",
       "    .dataframe tbody tr th:only-of-type {\n",
       "        vertical-align: middle;\n",
       "    }\n",
       "\n",
       "    .dataframe tbody tr th {\n",
       "        vertical-align: top;\n",
       "    }\n",
       "\n",
       "    .dataframe thead th {\n",
       "        text-align: right;\n",
       "    }\n",
       "</style>\n",
       "<table border=\"1\" class=\"dataframe\">\n",
       "  <thead>\n",
       "    <tr style=\"text-align: right;\">\n",
       "      <th></th>\n",
       "      <th>level_0</th>\n",
       "      <th>index</th>\n",
       "      <th>순위</th>\n",
       "      <th>앨범</th>\n",
       "      <th>곡명</th>\n",
       "      <th>가수</th>\n",
       "      <th>커버이미지_주소</th>\n",
       "      <th>좋아요</th>\n",
       "    </tr>\n",
       "    <tr>\n",
       "      <th>곡일련번호</th>\n",
       "      <th></th>\n",
       "      <th></th>\n",
       "      <th></th>\n",
       "      <th></th>\n",
       "      <th></th>\n",
       "      <th></th>\n",
       "      <th></th>\n",
       "      <th></th>\n",
       "    </tr>\n",
       "  </thead>\n",
       "  <tbody>\n",
       "    <tr>\n",
       "      <td>31346009</td>\n",
       "      <td>0</td>\n",
       "      <td>0</td>\n",
       "      <td>1</td>\n",
       "      <td>삐삐</td>\n",
       "      <td>삐삐</td>\n",
       "      <td>아이유</td>\n",
       "      <td>https://cdnimg.melon.co.kr/cm/album/images/102...</td>\n",
       "      <td>61528</td>\n",
       "    </tr>\n",
       "    <tr>\n",
       "      <td>31344113</td>\n",
       "      <td>1</td>\n",
       "      <td>1</td>\n",
       "      <td>2</td>\n",
       "      <td>시간이 들겠지</td>\n",
       "      <td>시간이 들겠지 (Feat. Colde)</td>\n",
       "      <td>로꼬</td>\n",
       "      <td>https://cdnimg.melon.co.kr/cm/album/images/102...</td>\n",
       "      <td>48331</td>\n",
       "    </tr>\n",
       "    <tr>\n",
       "      <td>31340985</td>\n",
       "      <td>2</td>\n",
       "      <td>2</td>\n",
       "      <td>3</td>\n",
       "      <td>쇼미더머니 777 Episode 1</td>\n",
       "      <td>Good Day (Feat. 팔로알토) (Prod. 코드 쿤스트)</td>\n",
       "      <td>pH-1</td>\n",
       "      <td>https://cdnimg.melon.co.kr/cm/album/images/102...</td>\n",
       "      <td>54022</td>\n",
       "    </tr>\n",
       "  </tbody>\n",
       "</table>\n",
       "</div>"
      ],
      "text/plain": [
       "          level_0  index  순위                   앨범  \\\n",
       "곡일련번호                                               \n",
       "31346009        0      0   1                   삐삐   \n",
       "31344113        1      1   2              시간이 들겠지   \n",
       "31340985        2      2   3  쇼미더머니 777 Episode 1   \n",
       "\n",
       "                                            곡명    가수  \\\n",
       "곡일련번호                                                  \n",
       "31346009                                    삐삐   아이유   \n",
       "31344113                 시간이 들겠지 (Feat. Colde)    로꼬   \n",
       "31340985  Good Day (Feat. 팔로알토) (Prod. 코드 쿤스트)  pH-1   \n",
       "\n",
       "                                                   커버이미지_주소    좋아요  \n",
       "곡일련번호                                                               \n",
       "31346009  https://cdnimg.melon.co.kr/cm/album/images/102...  61528  \n",
       "31344113  https://cdnimg.melon.co.kr/cm/album/images/102...  48331  \n",
       "31340985  https://cdnimg.melon.co.kr/cm/album/images/102...  54022  "
      ]
     },
     "execution_count": 42,
     "metadata": {},
     "output_type": "execute_result"
    }
   ],
   "source": [
    "df.iloc[:3] #i=index"
   ]
  },
  {
   "cell_type": "code",
   "execution_count": 49,
   "metadata": {},
   "outputs": [
    {
     "data": {
      "text/plain": [
       "곡일련번호\n",
       "31346009     아이유\n",
       "31344113      로꼬\n",
       "31340985    pH-1\n",
       "Name: 가수, dtype: object"
      ]
     },
     "execution_count": 49,
     "metadata": {},
     "output_type": "execute_result"
    }
   ],
   "source": [
    "df.loc[:31340985]['가수']"
   ]
  },
  {
   "cell_type": "code",
   "execution_count": 44,
   "metadata": {},
   "outputs": [
    {
     "data": {
      "text/plain": [
       "곡일련번호\n",
       "31346009     아이유\n",
       "31344113      로꼬\n",
       "31340985    pH-1\n",
       "Name: 가수, dtype: object"
      ]
     },
     "execution_count": 44,
     "metadata": {},
     "output_type": "execute_result"
    }
   ],
   "source": [
    "df.loc[:31340985, '가수']"
   ]
  },
  {
   "cell_type": "code",
   "execution_count": 47,
   "metadata": {},
   "outputs": [
    {
     "data": {
      "text/html": [
       "<div>\n",
       "<style scoped>\n",
       "    .dataframe tbody tr th:only-of-type {\n",
       "        vertical-align: middle;\n",
       "    }\n",
       "\n",
       "    .dataframe tbody tr th {\n",
       "        vertical-align: top;\n",
       "    }\n",
       "\n",
       "    .dataframe thead th {\n",
       "        text-align: right;\n",
       "    }\n",
       "</style>\n",
       "<table border=\"1\" class=\"dataframe\">\n",
       "  <thead>\n",
       "    <tr style=\"text-align: right;\">\n",
       "      <th></th>\n",
       "      <th>가수</th>\n",
       "      <th>곡명</th>\n",
       "    </tr>\n",
       "    <tr>\n",
       "      <th>곡일련번호</th>\n",
       "      <th></th>\n",
       "      <th></th>\n",
       "    </tr>\n",
       "  </thead>\n",
       "  <tbody>\n",
       "    <tr>\n",
       "      <td>31346009</td>\n",
       "      <td>아이유</td>\n",
       "      <td>삐삐</td>\n",
       "    </tr>\n",
       "    <tr>\n",
       "      <td>31344113</td>\n",
       "      <td>로꼬</td>\n",
       "      <td>시간이 들겠지 (Feat. Colde)</td>\n",
       "    </tr>\n",
       "    <tr>\n",
       "      <td>31340985</td>\n",
       "      <td>pH-1</td>\n",
       "      <td>Good Day (Feat. 팔로알토) (Prod. 코드 쿤스트)</td>\n",
       "    </tr>\n",
       "  </tbody>\n",
       "</table>\n",
       "</div>"
      ],
      "text/plain": [
       "            가수                                    곡명\n",
       "곡일련번호                                               \n",
       "31346009   아이유                                    삐삐\n",
       "31344113    로꼬                 시간이 들겠지 (Feat. Colde)\n",
       "31340985  pH-1  Good Day (Feat. 팔로알토) (Prod. 코드 쿤스트)"
      ]
     },
     "execution_count": 47,
     "metadata": {},
     "output_type": "execute_result"
    }
   ],
   "source": [
    "df.loc[:31340985, ['가수','곡명']]"
   ]
  },
  {
   "cell_type": "code",
   "execution_count": 48,
   "metadata": {},
   "outputs": [
    {
     "data": {
      "text/plain": [
       "Index(['level_0', 'index', '순위', '앨범', '곡명', '가수', '커버이미지_주소', '좋아요'], dtype='object')"
      ]
     },
     "execution_count": 48,
     "metadata": {},
     "output_type": "execute_result"
    }
   ],
   "source": [
    "df.columns"
   ]
  },
  {
   "cell_type": "code",
   "execution_count": 50,
   "metadata": {},
   "outputs": [
    {
     "data": {
      "text/html": [
       "<div>\n",
       "<style scoped>\n",
       "    .dataframe tbody tr th:only-of-type {\n",
       "        vertical-align: middle;\n",
       "    }\n",
       "\n",
       "    .dataframe tbody tr th {\n",
       "        vertical-align: top;\n",
       "    }\n",
       "\n",
       "    .dataframe thead th {\n",
       "        text-align: right;\n",
       "    }\n",
       "</style>\n",
       "<table border=\"1\" class=\"dataframe\">\n",
       "  <thead>\n",
       "    <tr style=\"text-align: right;\">\n",
       "      <th></th>\n",
       "      <th>level_0</th>\n",
       "      <th>index</th>\n",
       "      <th>순위</th>\n",
       "      <th>앨범</th>\n",
       "      <th>곡명</th>\n",
       "      <th>가수</th>\n",
       "    </tr>\n",
       "    <tr>\n",
       "      <th>곡일련번호</th>\n",
       "      <th></th>\n",
       "      <th></th>\n",
       "      <th></th>\n",
       "      <th></th>\n",
       "      <th></th>\n",
       "      <th></th>\n",
       "    </tr>\n",
       "  </thead>\n",
       "  <tbody>\n",
       "    <tr>\n",
       "      <td>31346009</td>\n",
       "      <td>0</td>\n",
       "      <td>0</td>\n",
       "      <td>1</td>\n",
       "      <td>삐삐</td>\n",
       "      <td>삐삐</td>\n",
       "      <td>아이유</td>\n",
       "    </tr>\n",
       "    <tr>\n",
       "      <td>31344113</td>\n",
       "      <td>1</td>\n",
       "      <td>1</td>\n",
       "      <td>2</td>\n",
       "      <td>시간이 들겠지</td>\n",
       "      <td>시간이 들겠지 (Feat. Colde)</td>\n",
       "      <td>로꼬</td>\n",
       "    </tr>\n",
       "    <tr>\n",
       "      <td>31340985</td>\n",
       "      <td>2</td>\n",
       "      <td>2</td>\n",
       "      <td>3</td>\n",
       "      <td>쇼미더머니 777 Episode 1</td>\n",
       "      <td>Good Day (Feat. 팔로알토) (Prod. 코드 쿤스트)</td>\n",
       "      <td>pH-1</td>\n",
       "    </tr>\n",
       "  </tbody>\n",
       "</table>\n",
       "</div>"
      ],
      "text/plain": [
       "          level_0  index  순위                   앨범  \\\n",
       "곡일련번호                                               \n",
       "31346009        0      0   1                   삐삐   \n",
       "31344113        1      1   2              시간이 들겠지   \n",
       "31340985        2      2   3  쇼미더머니 777 Episode 1   \n",
       "\n",
       "                                            곡명    가수  \n",
       "곡일련번호                                                 \n",
       "31346009                                    삐삐   아이유  \n",
       "31344113                 시간이 들겠지 (Feat. Colde)    로꼬  \n",
       "31340985  Good Day (Feat. 팔로알토) (Prod. 코드 쿤스트)  pH-1  "
      ]
     },
     "execution_count": 50,
     "metadata": {},
     "output_type": "execute_result"
    }
   ],
   "source": [
    "df.loc[:31340985, :'가수']"
   ]
  },
  {
   "cell_type": "code",
   "execution_count": 51,
   "metadata": {},
   "outputs": [
    {
     "data": {
      "text/html": [
       "<div>\n",
       "<style scoped>\n",
       "    .dataframe tbody tr th:only-of-type {\n",
       "        vertical-align: middle;\n",
       "    }\n",
       "\n",
       "    .dataframe tbody tr th {\n",
       "        vertical-align: top;\n",
       "    }\n",
       "\n",
       "    .dataframe thead th {\n",
       "        text-align: right;\n",
       "    }\n",
       "</style>\n",
       "<table border=\"1\" class=\"dataframe\">\n",
       "  <thead>\n",
       "    <tr style=\"text-align: right;\">\n",
       "      <th></th>\n",
       "      <th>가수</th>\n",
       "      <th>커버이미지_주소</th>\n",
       "      <th>좋아요</th>\n",
       "    </tr>\n",
       "    <tr>\n",
       "      <th>곡일련번호</th>\n",
       "      <th></th>\n",
       "      <th></th>\n",
       "      <th></th>\n",
       "    </tr>\n",
       "  </thead>\n",
       "  <tbody>\n",
       "    <tr>\n",
       "      <td>31346009</td>\n",
       "      <td>아이유</td>\n",
       "      <td>https://cdnimg.melon.co.kr/cm/album/images/102...</td>\n",
       "      <td>61528</td>\n",
       "    </tr>\n",
       "    <tr>\n",
       "      <td>31344113</td>\n",
       "      <td>로꼬</td>\n",
       "      <td>https://cdnimg.melon.co.kr/cm/album/images/102...</td>\n",
       "      <td>48331</td>\n",
       "    </tr>\n",
       "    <tr>\n",
       "      <td>31340985</td>\n",
       "      <td>pH-1</td>\n",
       "      <td>https://cdnimg.melon.co.kr/cm/album/images/102...</td>\n",
       "      <td>54022</td>\n",
       "    </tr>\n",
       "  </tbody>\n",
       "</table>\n",
       "</div>"
      ],
      "text/plain": [
       "            가수                                           커버이미지_주소    좋아요\n",
       "곡일련번호                                                                   \n",
       "31346009   아이유  https://cdnimg.melon.co.kr/cm/album/images/102...  61528\n",
       "31344113    로꼬  https://cdnimg.melon.co.kr/cm/album/images/102...  48331\n",
       "31340985  pH-1  https://cdnimg.melon.co.kr/cm/album/images/102...  54022"
      ]
     },
     "execution_count": 51,
     "metadata": {},
     "output_type": "execute_result"
    }
   ],
   "source": [
    "df.loc[:31340985, '가수':]"
   ]
  },
  {
   "cell_type": "code",
   "execution_count": 56,
   "metadata": {},
   "outputs": [
    {
     "data": {
      "text/plain": [
       "곡일련번호\n",
       "31346009                     삐삐\n",
       "31344113                시간이 들겠지\n",
       "31340985    쇼미더머니 777 Episode 1\n",
       "Name: 앨범, dtype: object"
      ]
     },
     "execution_count": 56,
     "metadata": {},
     "output_type": "execute_result"
    }
   ],
   "source": [
    "df.iloc[:3, 3]"
   ]
  },
  {
   "cell_type": "code",
   "execution_count": 64,
   "metadata": {},
   "outputs": [
    {
     "data": {
      "text/html": [
       "<div>\n",
       "<style scoped>\n",
       "    .dataframe tbody tr th:only-of-type {\n",
       "        vertical-align: middle;\n",
       "    }\n",
       "\n",
       "    .dataframe tbody tr th {\n",
       "        vertical-align: top;\n",
       "    }\n",
       "\n",
       "    .dataframe thead th {\n",
       "        text-align: right;\n",
       "    }\n",
       "</style>\n",
       "<table border=\"1\" class=\"dataframe\">\n",
       "  <thead>\n",
       "    <tr style=\"text-align: right;\">\n",
       "      <th></th>\n",
       "      <th>가수</th>\n",
       "      <th>좋아요</th>\n",
       "    </tr>\n",
       "    <tr>\n",
       "      <th>곡일련번호</th>\n",
       "      <th></th>\n",
       "      <th></th>\n",
       "    </tr>\n",
       "  </thead>\n",
       "  <tbody>\n",
       "    <tr>\n",
       "      <td>31346009</td>\n",
       "      <td>아이유</td>\n",
       "      <td>61528</td>\n",
       "    </tr>\n",
       "    <tr>\n",
       "      <td>31344113</td>\n",
       "      <td>로꼬</td>\n",
       "      <td>48331</td>\n",
       "    </tr>\n",
       "    <tr>\n",
       "      <td>31340985</td>\n",
       "      <td>pH-1</td>\n",
       "      <td>54022</td>\n",
       "    </tr>\n",
       "  </tbody>\n",
       "</table>\n",
       "</div>"
      ],
      "text/plain": [
       "            가수    좋아요\n",
       "곡일련번호                \n",
       "31346009   아이유  61528\n",
       "31344113    로꼬  48331\n",
       "31340985  pH-1  54022"
      ]
     },
     "execution_count": 64,
     "metadata": {},
     "output_type": "execute_result"
    }
   ],
   "source": [
    "df.iloc[:3][['가수','좋아요']]"
   ]
  },
  {
   "cell_type": "code",
   "execution_count": null,
   "metadata": {},
   "outputs": [],
   "source": []
  },
  {
   "cell_type": "code",
   "execution_count": 59,
   "metadata": {},
   "outputs": [
    {
     "data": {
      "text/html": [
       "<div>\n",
       "<style scoped>\n",
       "    .dataframe tbody tr th:only-of-type {\n",
       "        vertical-align: middle;\n",
       "    }\n",
       "\n",
       "    .dataframe tbody tr th {\n",
       "        vertical-align: top;\n",
       "    }\n",
       "\n",
       "    .dataframe thead th {\n",
       "        text-align: right;\n",
       "    }\n",
       "</style>\n",
       "<table border=\"1\" class=\"dataframe\">\n",
       "  <thead>\n",
       "    <tr style=\"text-align: right;\">\n",
       "      <th></th>\n",
       "      <th>곡명</th>\n",
       "      <th>좋아요</th>\n",
       "    </tr>\n",
       "    <tr>\n",
       "      <th>곡일련번호</th>\n",
       "      <th></th>\n",
       "      <th></th>\n",
       "    </tr>\n",
       "  </thead>\n",
       "  <tbody>\n",
       "    <tr>\n",
       "      <td>31266290</td>\n",
       "      <td>IDOL</td>\n",
       "      <td>173279</td>\n",
       "    </tr>\n",
       "    <tr>\n",
       "      <td>31266289</td>\n",
       "      <td>I`m Fine</td>\n",
       "      <td>132847</td>\n",
       "    </tr>\n",
       "    <tr>\n",
       "      <td>31085237</td>\n",
       "      <td>FAKE LOVE</td>\n",
       "      <td>253847</td>\n",
       "    </tr>\n",
       "    <tr>\n",
       "      <td>31266282</td>\n",
       "      <td>Euphoria</td>\n",
       "      <td>129017</td>\n",
       "    </tr>\n",
       "    <tr>\n",
       "      <td>31266291</td>\n",
       "      <td>Answer : Love Myself</td>\n",
       "      <td>108151</td>\n",
       "    </tr>\n",
       "    <tr>\n",
       "      <td>31085238</td>\n",
       "      <td>전하지 못한 진심 (Feat. Steve Aoki)</td>\n",
       "      <td>176653</td>\n",
       "    </tr>\n",
       "    <tr>\n",
       "      <td>31266288</td>\n",
       "      <td>Epiphany</td>\n",
       "      <td>101011</td>\n",
       "    </tr>\n",
       "    <tr>\n",
       "      <td>31266286</td>\n",
       "      <td>Trivia 轉 : Seesaw</td>\n",
       "      <td>98436</td>\n",
       "    </tr>\n",
       "    <tr>\n",
       "      <td>31266292</td>\n",
       "      <td>Trivia 起 : Just Dance</td>\n",
       "      <td>88970</td>\n",
       "    </tr>\n",
       "    <tr>\n",
       "      <td>31266300</td>\n",
       "      <td>Trivia 承 : Love</td>\n",
       "      <td>83610</td>\n",
       "    </tr>\n",
       "    <tr>\n",
       "      <td>31085244</td>\n",
       "      <td>Anpanman</td>\n",
       "      <td>138694</td>\n",
       "    </tr>\n",
       "    <tr>\n",
       "      <td>30244931</td>\n",
       "      <td>봄날</td>\n",
       "      <td>359130</td>\n",
       "    </tr>\n",
       "    <tr>\n",
       "      <td>30637982</td>\n",
       "      <td>DNA</td>\n",
       "      <td>323911</td>\n",
       "    </tr>\n",
       "    <tr>\n",
       "      <td>31085243</td>\n",
       "      <td>Airplane pt.2</td>\n",
       "      <td>127355</td>\n",
       "    </tr>\n",
       "  </tbody>\n",
       "</table>\n",
       "</div>"
      ],
      "text/plain": [
       "                                    곡명     좋아요\n",
       "곡일련번호                                         \n",
       "31266290                          IDOL  173279\n",
       "31266289                      I`m Fine  132847\n",
       "31085237                     FAKE LOVE  253847\n",
       "31266282                      Euphoria  129017\n",
       "31266291          Answer : Love Myself  108151\n",
       "31085238  전하지 못한 진심 (Feat. Steve Aoki)  176653\n",
       "31266288                      Epiphany  101011\n",
       "31266286             Trivia 轉 : Seesaw   98436\n",
       "31266292         Trivia 起 : Just Dance   88970\n",
       "31266300               Trivia 承 : Love   83610\n",
       "31085244                      Anpanman  138694\n",
       "30244931                            봄날  359130\n",
       "30637982                           DNA  323911\n",
       "31085243                 Airplane pt.2  127355"
      ]
     },
     "execution_count": 59,
     "metadata": {},
     "output_type": "execute_result"
    }
   ],
   "source": [
    "mask = df['가수'] == '방탄소년단' # Boolean Mask\n",
    "df.loc[mask, ['곡명','좋아요']]\n",
    "# df[mask]"
   ]
  },
  {
   "cell_type": "code",
   "execution_count": 63,
   "metadata": {},
   "outputs": [
    {
     "data": {
      "text/html": [
       "<div>\n",
       "<style scoped>\n",
       "    .dataframe tbody tr th:only-of-type {\n",
       "        vertical-align: middle;\n",
       "    }\n",
       "\n",
       "    .dataframe tbody tr th {\n",
       "        vertical-align: top;\n",
       "    }\n",
       "\n",
       "    .dataframe thead th {\n",
       "        text-align: right;\n",
       "    }\n",
       "</style>\n",
       "<table border=\"1\" class=\"dataframe\">\n",
       "  <thead>\n",
       "    <tr style=\"text-align: right;\">\n",
       "      <th></th>\n",
       "      <th>level_0</th>\n",
       "      <th>index</th>\n",
       "      <th>순위</th>\n",
       "      <th>앨범</th>\n",
       "      <th>곡명</th>\n",
       "      <th>가수</th>\n",
       "      <th>커버이미지_주소</th>\n",
       "      <th>좋아요</th>\n",
       "    </tr>\n",
       "    <tr>\n",
       "      <th>곡일련번호</th>\n",
       "      <th></th>\n",
       "      <th></th>\n",
       "      <th></th>\n",
       "      <th></th>\n",
       "      <th></th>\n",
       "      <th></th>\n",
       "      <th></th>\n",
       "      <th></th>\n",
       "    </tr>\n",
       "  </thead>\n",
       "  <tbody>\n",
       "    <tr>\n",
       "      <td>31085237</td>\n",
       "      <td>9</td>\n",
       "      <td>9</td>\n",
       "      <td>10</td>\n",
       "      <td>LOVE YOURSELF 轉 `Tear`</td>\n",
       "      <td>FAKE LOVE</td>\n",
       "      <td>방탄소년단</td>\n",
       "      <td>https://cdnimg.melon.co.kr/cm/album/images/101...</td>\n",
       "      <td>253847</td>\n",
       "    </tr>\n",
       "    <tr>\n",
       "      <td>30244931</td>\n",
       "      <td>25</td>\n",
       "      <td>25</td>\n",
       "      <td>26</td>\n",
       "      <td>YOU NEVER WALK ALONE</td>\n",
       "      <td>봄날</td>\n",
       "      <td>방탄소년단</td>\n",
       "      <td>https://cdnimg.melon.co.kr/cm/album/images/100...</td>\n",
       "      <td>359130</td>\n",
       "    </tr>\n",
       "    <tr>\n",
       "      <td>30637982</td>\n",
       "      <td>26</td>\n",
       "      <td>26</td>\n",
       "      <td>27</td>\n",
       "      <td>LOVE YOURSELF 承 `Her`</td>\n",
       "      <td>DNA</td>\n",
       "      <td>방탄소년단</td>\n",
       "      <td>https://cdnimg.melon.co.kr/cm/album/images/100...</td>\n",
       "      <td>323911</td>\n",
       "    </tr>\n",
       "  </tbody>\n",
       "</table>\n",
       "</div>"
      ],
      "text/plain": [
       "          level_0  index  순위                      앨범         곡명     가수  \\\n",
       "곡일련번호                                                                    \n",
       "31085237        9      9  10  LOVE YOURSELF 轉 `Tear`  FAKE LOVE  방탄소년단   \n",
       "30244931       25     25  26    YOU NEVER WALK ALONE         봄날  방탄소년단   \n",
       "30637982       26     26  27   LOVE YOURSELF 承 `Her`        DNA  방탄소년단   \n",
       "\n",
       "                                                   커버이미지_주소     좋아요  \n",
       "곡일련번호                                                                \n",
       "31085237  https://cdnimg.melon.co.kr/cm/album/images/101...  253847  \n",
       "30244931  https://cdnimg.melon.co.kr/cm/album/images/100...  359130  \n",
       "30637982  https://cdnimg.melon.co.kr/cm/album/images/100...  323911  "
      ]
     },
     "execution_count": 63,
     "metadata": {},
     "output_type": "execute_result"
    }
   ],
   "source": [
    "mask1 = df['좋아요'] >= 200_000\n",
    "mask2 = df['가수'] == '방탄소년단'\n",
    "mask = mask1 & mask2\n",
    "df.loc[mask]"
   ]
  },
  {
   "cell_type": "code",
   "execution_count": 65,
   "metadata": {},
   "outputs": [
    {
     "data": {
      "text/html": [
       "<div>\n",
       "<style scoped>\n",
       "    .dataframe tbody tr th:only-of-type {\n",
       "        vertical-align: middle;\n",
       "    }\n",
       "\n",
       "    .dataframe tbody tr th {\n",
       "        vertical-align: top;\n",
       "    }\n",
       "\n",
       "    .dataframe thead th {\n",
       "        text-align: right;\n",
       "    }\n",
       "</style>\n",
       "<table border=\"1\" class=\"dataframe\">\n",
       "  <thead>\n",
       "    <tr style=\"text-align: right;\">\n",
       "      <th></th>\n",
       "      <th>level_0</th>\n",
       "      <th>index</th>\n",
       "      <th>순위</th>\n",
       "      <th>앨범</th>\n",
       "      <th>곡명</th>\n",
       "      <th>가수</th>\n",
       "      <th>커버이미지_주소</th>\n",
       "      <th>좋아요</th>\n",
       "    </tr>\n",
       "    <tr>\n",
       "      <th>곡일련번호</th>\n",
       "      <th></th>\n",
       "      <th></th>\n",
       "      <th></th>\n",
       "      <th></th>\n",
       "      <th></th>\n",
       "      <th></th>\n",
       "      <th></th>\n",
       "      <th></th>\n",
       "    </tr>\n",
       "  </thead>\n",
       "  <tbody>\n",
       "    <tr>\n",
       "      <td>31266290</td>\n",
       "      <td>4</td>\n",
       "      <td>4</td>\n",
       "      <td>5</td>\n",
       "      <td>LOVE YOURSELF 結 `Answer`</td>\n",
       "      <td>IDOL</td>\n",
       "      <td>방탄소년단</td>\n",
       "      <td>https://cdnimg.melon.co.kr/cm/album/images/101...</td>\n",
       "      <td>173279</td>\n",
       "    </tr>\n",
       "    <tr>\n",
       "      <td>31266289</td>\n",
       "      <td>7</td>\n",
       "      <td>7</td>\n",
       "      <td>8</td>\n",
       "      <td>LOVE YOURSELF 結 `Answer`</td>\n",
       "      <td>I`m Fine</td>\n",
       "      <td>방탄소년단</td>\n",
       "      <td>https://cdnimg.melon.co.kr/cm/album/images/101...</td>\n",
       "      <td>132847</td>\n",
       "    </tr>\n",
       "    <tr>\n",
       "      <td>31085237</td>\n",
       "      <td>9</td>\n",
       "      <td>9</td>\n",
       "      <td>10</td>\n",
       "      <td>LOVE YOURSELF 轉 `Tear`</td>\n",
       "      <td>FAKE LOVE</td>\n",
       "      <td>방탄소년단</td>\n",
       "      <td>https://cdnimg.melon.co.kr/cm/album/images/101...</td>\n",
       "      <td>253847</td>\n",
       "    </tr>\n",
       "    <tr>\n",
       "      <td>31266282</td>\n",
       "      <td>11</td>\n",
       "      <td>11</td>\n",
       "      <td>12</td>\n",
       "      <td>LOVE YOURSELF 結 `Answer`</td>\n",
       "      <td>Euphoria</td>\n",
       "      <td>방탄소년단</td>\n",
       "      <td>https://cdnimg.melon.co.kr/cm/album/images/101...</td>\n",
       "      <td>129017</td>\n",
       "    </tr>\n",
       "    <tr>\n",
       "      <td>31266291</td>\n",
       "      <td>13</td>\n",
       "      <td>13</td>\n",
       "      <td>14</td>\n",
       "      <td>LOVE YOURSELF 結 `Answer`</td>\n",
       "      <td>Answer : Love Myself</td>\n",
       "      <td>방탄소년단</td>\n",
       "      <td>https://cdnimg.melon.co.kr/cm/album/images/101...</td>\n",
       "      <td>108151</td>\n",
       "    </tr>\n",
       "    <tr>\n",
       "      <td>31085238</td>\n",
       "      <td>14</td>\n",
       "      <td>14</td>\n",
       "      <td>15</td>\n",
       "      <td>LOVE YOURSELF 轉 `Tear`</td>\n",
       "      <td>전하지 못한 진심 (Feat. Steve Aoki)</td>\n",
       "      <td>방탄소년단</td>\n",
       "      <td>https://cdnimg.melon.co.kr/cm/album/images/101...</td>\n",
       "      <td>176653</td>\n",
       "    </tr>\n",
       "    <tr>\n",
       "      <td>31266288</td>\n",
       "      <td>15</td>\n",
       "      <td>15</td>\n",
       "      <td>16</td>\n",
       "      <td>LOVE YOURSELF 結 `Answer`</td>\n",
       "      <td>Epiphany</td>\n",
       "      <td>방탄소년단</td>\n",
       "      <td>https://cdnimg.melon.co.kr/cm/album/images/101...</td>\n",
       "      <td>101011</td>\n",
       "    </tr>\n",
       "    <tr>\n",
       "      <td>31266286</td>\n",
       "      <td>16</td>\n",
       "      <td>16</td>\n",
       "      <td>17</td>\n",
       "      <td>LOVE YOURSELF 結 `Answer`</td>\n",
       "      <td>Trivia 轉 : Seesaw</td>\n",
       "      <td>방탄소년단</td>\n",
       "      <td>https://cdnimg.melon.co.kr/cm/album/images/101...</td>\n",
       "      <td>98436</td>\n",
       "    </tr>\n",
       "    <tr>\n",
       "      <td>31266292</td>\n",
       "      <td>19</td>\n",
       "      <td>19</td>\n",
       "      <td>20</td>\n",
       "      <td>LOVE YOURSELF 結 `Answer`</td>\n",
       "      <td>Trivia 起 : Just Dance</td>\n",
       "      <td>방탄소년단</td>\n",
       "      <td>https://cdnimg.melon.co.kr/cm/album/images/101...</td>\n",
       "      <td>88970</td>\n",
       "    </tr>\n",
       "    <tr>\n",
       "      <td>31266300</td>\n",
       "      <td>21</td>\n",
       "      <td>21</td>\n",
       "      <td>22</td>\n",
       "      <td>LOVE YOURSELF 結 `Answer`</td>\n",
       "      <td>Trivia 承 : Love</td>\n",
       "      <td>방탄소년단</td>\n",
       "      <td>https://cdnimg.melon.co.kr/cm/album/images/101...</td>\n",
       "      <td>83610</td>\n",
       "    </tr>\n",
       "    <tr>\n",
       "      <td>31151836</td>\n",
       "      <td>23</td>\n",
       "      <td>23</td>\n",
       "      <td>24</td>\n",
       "      <td>Take</td>\n",
       "      <td>Way Back Home</td>\n",
       "      <td>숀 (SHAUN)</td>\n",
       "      <td>https://cdnimg.melon.co.kr/cm/album/images/101...</td>\n",
       "      <td>225308</td>\n",
       "    </tr>\n",
       "    <tr>\n",
       "      <td>31085244</td>\n",
       "      <td>24</td>\n",
       "      <td>24</td>\n",
       "      <td>25</td>\n",
       "      <td>LOVE YOURSELF 轉 `Tear`</td>\n",
       "      <td>Anpanman</td>\n",
       "      <td>방탄소년단</td>\n",
       "      <td>https://cdnimg.melon.co.kr/cm/album/images/101...</td>\n",
       "      <td>138694</td>\n",
       "    </tr>\n",
       "    <tr>\n",
       "      <td>30244931</td>\n",
       "      <td>25</td>\n",
       "      <td>25</td>\n",
       "      <td>26</td>\n",
       "      <td>YOU NEVER WALK ALONE</td>\n",
       "      <td>봄날</td>\n",
       "      <td>방탄소년단</td>\n",
       "      <td>https://cdnimg.melon.co.kr/cm/album/images/100...</td>\n",
       "      <td>359130</td>\n",
       "    </tr>\n",
       "    <tr>\n",
       "      <td>30637982</td>\n",
       "      <td>26</td>\n",
       "      <td>26</td>\n",
       "      <td>27</td>\n",
       "      <td>LOVE YOURSELF 承 `Her`</td>\n",
       "      <td>DNA</td>\n",
       "      <td>방탄소년단</td>\n",
       "      <td>https://cdnimg.melon.co.kr/cm/album/images/100...</td>\n",
       "      <td>323911</td>\n",
       "    </tr>\n",
       "    <tr>\n",
       "      <td>31085243</td>\n",
       "      <td>27</td>\n",
       "      <td>27</td>\n",
       "      <td>28</td>\n",
       "      <td>LOVE YOURSELF 轉 `Tear`</td>\n",
       "      <td>Airplane pt.2</td>\n",
       "      <td>방탄소년단</td>\n",
       "      <td>https://cdnimg.melon.co.kr/cm/album/images/101...</td>\n",
       "      <td>127355</td>\n",
       "    </tr>\n",
       "    <tr>\n",
       "      <td>30568338</td>\n",
       "      <td>40</td>\n",
       "      <td>40</td>\n",
       "      <td>41</td>\n",
       "      <td>1X1=1(TO BE ONE)</td>\n",
       "      <td>에너제틱 (Energetic)</td>\n",
       "      <td>Wanna One (워너원)</td>\n",
       "      <td>https://cdnimg.melon.co.kr/cm/album/images/100...</td>\n",
       "      <td>268394</td>\n",
       "    </tr>\n",
       "    <tr>\n",
       "      <td>30859584</td>\n",
       "      <td>41</td>\n",
       "      <td>41</td>\n",
       "      <td>42</td>\n",
       "      <td>Return</td>\n",
       "      <td>사랑을 했다 (LOVE SCENARIO)</td>\n",
       "      <td>iKON</td>\n",
       "      <td>https://cdnimg.melon.co.kr/cm/album/images/101...</td>\n",
       "      <td>267692</td>\n",
       "    </tr>\n",
       "    <tr>\n",
       "      <td>30725482</td>\n",
       "      <td>44</td>\n",
       "      <td>44</td>\n",
       "      <td>45</td>\n",
       "      <td>1-1=0 (NOTHING WITHOUT YOU)</td>\n",
       "      <td>Beautiful</td>\n",
       "      <td>Wanna One (워너원)</td>\n",
       "      <td>https://cdnimg.melon.co.kr/cm/album/images/101...</td>\n",
       "      <td>216065</td>\n",
       "    </tr>\n",
       "    <tr>\n",
       "      <td>30314784</td>\n",
       "      <td>58</td>\n",
       "      <td>58</td>\n",
       "      <td>59</td>\n",
       "      <td>밤편지</td>\n",
       "      <td>밤편지</td>\n",
       "      <td>아이유</td>\n",
       "      <td>https://cdnimg.melon.co.kr/cm/album/images/100...</td>\n",
       "      <td>283167</td>\n",
       "    </tr>\n",
       "    <tr>\n",
       "      <td>30755375</td>\n",
       "      <td>62</td>\n",
       "      <td>62</td>\n",
       "      <td>63</td>\n",
       "      <td>그날처럼</td>\n",
       "      <td>그날처럼</td>\n",
       "      <td>장덕철</td>\n",
       "      <td>https://cdnimg.melon.co.kr/cm/album/images/101...</td>\n",
       "      <td>208427</td>\n",
       "    </tr>\n",
       "    <tr>\n",
       "      <td>30672529</td>\n",
       "      <td>64</td>\n",
       "      <td>64</td>\n",
       "      <td>65</td>\n",
       "      <td>Brother Act.</td>\n",
       "      <td>그리워하다</td>\n",
       "      <td>비투비</td>\n",
       "      <td>https://cdnimg.melon.co.kr/cm/album/images/101...</td>\n",
       "      <td>203463</td>\n",
       "    </tr>\n",
       "    <tr>\n",
       "      <td>30514366</td>\n",
       "      <td>77</td>\n",
       "      <td>77</td>\n",
       "      <td>78</td>\n",
       "      <td>Moonlight</td>\n",
       "      <td>선물</td>\n",
       "      <td>멜로망스</td>\n",
       "      <td>https://cdnimg.melon.co.kr/cm/album/images/100...</td>\n",
       "      <td>266869</td>\n",
       "    </tr>\n",
       "  </tbody>\n",
       "</table>\n",
       "</div>"
      ],
      "text/plain": [
       "          level_0  index  순위                           앨범  \\\n",
       "곡일련번호                                                       \n",
       "31266290        4      4   5     LOVE YOURSELF 結 `Answer`   \n",
       "31266289        7      7   8     LOVE YOURSELF 結 `Answer`   \n",
       "31085237        9      9  10       LOVE YOURSELF 轉 `Tear`   \n",
       "31266282       11     11  12     LOVE YOURSELF 結 `Answer`   \n",
       "31266291       13     13  14     LOVE YOURSELF 結 `Answer`   \n",
       "31085238       14     14  15       LOVE YOURSELF 轉 `Tear`   \n",
       "31266288       15     15  16     LOVE YOURSELF 結 `Answer`   \n",
       "31266286       16     16  17     LOVE YOURSELF 結 `Answer`   \n",
       "31266292       19     19  20     LOVE YOURSELF 結 `Answer`   \n",
       "31266300       21     21  22     LOVE YOURSELF 結 `Answer`   \n",
       "31151836       23     23  24                         Take   \n",
       "31085244       24     24  25       LOVE YOURSELF 轉 `Tear`   \n",
       "30244931       25     25  26         YOU NEVER WALK ALONE   \n",
       "30637982       26     26  27        LOVE YOURSELF 承 `Her`   \n",
       "31085243       27     27  28       LOVE YOURSELF 轉 `Tear`   \n",
       "30568338       40     40  41             1X1=1(TO BE ONE)   \n",
       "30859584       41     41  42                       Return   \n",
       "30725482       44     44  45  1-1=0 (NOTHING WITHOUT YOU)   \n",
       "30314784       58     58  59                          밤편지   \n",
       "30755375       62     62  63                         그날처럼   \n",
       "30672529       64     64  65                 Brother Act.   \n",
       "30514366       77     77  78                    Moonlight   \n",
       "\n",
       "                                    곡명               가수  \\\n",
       "곡일련번호                                                     \n",
       "31266290                          IDOL            방탄소년단   \n",
       "31266289                      I`m Fine            방탄소년단   \n",
       "31085237                     FAKE LOVE            방탄소년단   \n",
       "31266282                      Euphoria            방탄소년단   \n",
       "31266291          Answer : Love Myself            방탄소년단   \n",
       "31085238  전하지 못한 진심 (Feat. Steve Aoki)            방탄소년단   \n",
       "31266288                      Epiphany            방탄소년단   \n",
       "31266286             Trivia 轉 : Seesaw            방탄소년단   \n",
       "31266292         Trivia 起 : Just Dance            방탄소년단   \n",
       "31266300               Trivia 承 : Love            방탄소년단   \n",
       "31151836                 Way Back Home        숀 (SHAUN)   \n",
       "31085244                      Anpanman            방탄소년단   \n",
       "30244931                            봄날            방탄소년단   \n",
       "30637982                           DNA            방탄소년단   \n",
       "31085243                 Airplane pt.2            방탄소년단   \n",
       "30568338              에너제틱 (Energetic)  Wanna One (워너원)   \n",
       "30859584        사랑을 했다 (LOVE SCENARIO)             iKON   \n",
       "30725482                     Beautiful  Wanna One (워너원)   \n",
       "30314784                           밤편지              아이유   \n",
       "30755375                          그날처럼              장덕철   \n",
       "30672529                         그리워하다              비투비   \n",
       "30514366                            선물             멜로망스   \n",
       "\n",
       "                                                   커버이미지_주소     좋아요  \n",
       "곡일련번호                                                                \n",
       "31266290  https://cdnimg.melon.co.kr/cm/album/images/101...  173279  \n",
       "31266289  https://cdnimg.melon.co.kr/cm/album/images/101...  132847  \n",
       "31085237  https://cdnimg.melon.co.kr/cm/album/images/101...  253847  \n",
       "31266282  https://cdnimg.melon.co.kr/cm/album/images/101...  129017  \n",
       "31266291  https://cdnimg.melon.co.kr/cm/album/images/101...  108151  \n",
       "31085238  https://cdnimg.melon.co.kr/cm/album/images/101...  176653  \n",
       "31266288  https://cdnimg.melon.co.kr/cm/album/images/101...  101011  \n",
       "31266286  https://cdnimg.melon.co.kr/cm/album/images/101...   98436  \n",
       "31266292  https://cdnimg.melon.co.kr/cm/album/images/101...   88970  \n",
       "31266300  https://cdnimg.melon.co.kr/cm/album/images/101...   83610  \n",
       "31151836  https://cdnimg.melon.co.kr/cm/album/images/101...  225308  \n",
       "31085244  https://cdnimg.melon.co.kr/cm/album/images/101...  138694  \n",
       "30244931  https://cdnimg.melon.co.kr/cm/album/images/100...  359130  \n",
       "30637982  https://cdnimg.melon.co.kr/cm/album/images/100...  323911  \n",
       "31085243  https://cdnimg.melon.co.kr/cm/album/images/101...  127355  \n",
       "30568338  https://cdnimg.melon.co.kr/cm/album/images/100...  268394  \n",
       "30859584  https://cdnimg.melon.co.kr/cm/album/images/101...  267692  \n",
       "30725482  https://cdnimg.melon.co.kr/cm/album/images/101...  216065  \n",
       "30314784  https://cdnimg.melon.co.kr/cm/album/images/100...  283167  \n",
       "30755375  https://cdnimg.melon.co.kr/cm/album/images/101...  208427  \n",
       "30672529  https://cdnimg.melon.co.kr/cm/album/images/101...  203463  \n",
       "30514366  https://cdnimg.melon.co.kr/cm/album/images/100...  266869  "
      ]
     },
     "execution_count": 65,
     "metadata": {},
     "output_type": "execute_result"
    }
   ],
   "source": [
    "mask1 = df['좋아요'] >= 200_000\n",
    "mask2 = df['가수'] == '방탄소년단'\n",
    "mask = mask1 | mask2\n",
    "df.loc[mask]"
   ]
  },
  {
   "cell_type": "code",
   "execution_count": null,
   "metadata": {},
   "outputs": [],
   "source": []
  },
  {
   "cell_type": "code",
   "execution_count": 77,
   "metadata": {},
   "outputs": [
    {
     "data": {
      "text/html": [
       "<div>\n",
       "<style scoped>\n",
       "    .dataframe tbody tr th:only-of-type {\n",
       "        vertical-align: middle;\n",
       "    }\n",
       "\n",
       "    .dataframe tbody tr th {\n",
       "        vertical-align: top;\n",
       "    }\n",
       "\n",
       "    .dataframe thead th {\n",
       "        text-align: right;\n",
       "    }\n",
       "</style>\n",
       "<table border=\"1\" class=\"dataframe\">\n",
       "  <thead>\n",
       "    <tr style=\"text-align: right;\">\n",
       "      <th></th>\n",
       "      <th>순위</th>\n",
       "      <th>앨범</th>\n",
       "      <th>곡명</th>\n",
       "      <th>가수</th>\n",
       "      <th>커버이미지_주소</th>\n",
       "      <th>좋아요</th>\n",
       "      <th>글자수</th>\n",
       "    </tr>\n",
       "    <tr>\n",
       "      <th>곡일련번호</th>\n",
       "      <th></th>\n",
       "      <th></th>\n",
       "      <th></th>\n",
       "      <th></th>\n",
       "      <th></th>\n",
       "      <th></th>\n",
       "      <th></th>\n",
       "    </tr>\n",
       "  </thead>\n",
       "  <tbody>\n",
       "    <tr>\n",
       "      <td>31346009</td>\n",
       "      <td>1</td>\n",
       "      <td>삐삐</td>\n",
       "      <td>삐삐</td>\n",
       "      <td>아이유</td>\n",
       "      <td>https://cdnimg.melon.co.kr/cm/album/images/102...</td>\n",
       "      <td>61528</td>\n",
       "      <td>10</td>\n",
       "    </tr>\n",
       "    <tr>\n",
       "      <td>31344113</td>\n",
       "      <td>2</td>\n",
       "      <td>시간이 들겠지</td>\n",
       "      <td>시간이 들겠지 (Feat. Colde)</td>\n",
       "      <td>로꼬</td>\n",
       "      <td>https://cdnimg.melon.co.kr/cm/album/images/102...</td>\n",
       "      <td>48331</td>\n",
       "      <td>10</td>\n",
       "    </tr>\n",
       "    <tr>\n",
       "      <td>31340985</td>\n",
       "      <td>3</td>\n",
       "      <td>쇼미더머니 777 Episode 1</td>\n",
       "      <td>Good Day (Feat. 팔로알토) (Prod. 코드 쿤스트)</td>\n",
       "      <td>pH-1</td>\n",
       "      <td>https://cdnimg.melon.co.kr/cm/album/images/102...</td>\n",
       "      <td>54022</td>\n",
       "      <td>10</td>\n",
       "    </tr>\n",
       "    <tr>\n",
       "      <td>31316695</td>\n",
       "      <td>4</td>\n",
       "      <td>하루도 그대를 사랑하지 않은 적이 없었다</td>\n",
       "      <td>하루도 그대를 사랑하지 않은 적이 없었다</td>\n",
       "      <td>임창정</td>\n",
       "      <td>https://cdnimg.melon.co.kr/cm/album/images/102...</td>\n",
       "      <td>97984</td>\n",
       "      <td>10</td>\n",
       "    </tr>\n",
       "    <tr>\n",
       "      <td>31266290</td>\n",
       "      <td>5</td>\n",
       "      <td>LOVE YOURSELF 結 `Answer`</td>\n",
       "      <td>IDOL</td>\n",
       "      <td>방탄소년단</td>\n",
       "      <td>https://cdnimg.melon.co.kr/cm/album/images/101...</td>\n",
       "      <td>173279</td>\n",
       "      <td>10</td>\n",
       "    </tr>\n",
       "  </tbody>\n",
       "</table>\n",
       "</div>"
      ],
      "text/plain": [
       "          순위                        앨범                                    곡명  \\\n",
       "곡일련번호                                                                          \n",
       "31346009   1                        삐삐                                    삐삐   \n",
       "31344113   2                   시간이 들겠지                 시간이 들겠지 (Feat. Colde)   \n",
       "31340985   3       쇼미더머니 777 Episode 1  Good Day (Feat. 팔로알토) (Prod. 코드 쿤스트)   \n",
       "31316695   4    하루도 그대를 사랑하지 않은 적이 없었다                하루도 그대를 사랑하지 않은 적이 없었다   \n",
       "31266290   5  LOVE YOURSELF 結 `Answer`                                  IDOL   \n",
       "\n",
       "             가수                                           커버이미지_주소     좋아요  \\\n",
       "곡일련번호                                                                        \n",
       "31346009    아이유  https://cdnimg.melon.co.kr/cm/album/images/102...   61528   \n",
       "31344113     로꼬  https://cdnimg.melon.co.kr/cm/album/images/102...   48331   \n",
       "31340985   pH-1  https://cdnimg.melon.co.kr/cm/album/images/102...   54022   \n",
       "31316695    임창정  https://cdnimg.melon.co.kr/cm/album/images/102...   97984   \n",
       "31266290  방탄소년단  https://cdnimg.melon.co.kr/cm/album/images/101...  173279   \n",
       "\n",
       "          글자수  \n",
       "곡일련번호          \n",
       "31346009   10  \n",
       "31344113   10  \n",
       "31340985   10  \n",
       "31316695   10  \n",
       "31266290   10  "
      ]
     },
     "execution_count": 77,
     "metadata": {},
     "output_type": "execute_result"
    }
   ],
   "source": [
    "df['글자수'] = 10\n",
    "df.head()"
   ]
  },
  {
   "cell_type": "code",
   "execution_count": 79,
   "metadata": {},
   "outputs": [
    {
     "ename": "TypeError",
     "evalue": "unsupported operand type(s) for +: 'int' and 'str'",
     "output_type": "error",
     "traceback": [
      "\u001b[1;31m---------------------------------------------------------------------------\u001b[0m",
      "\u001b[1;31mTypeError\u001b[0m                                 Traceback (most recent call last)",
      "\u001b[1;32m<ipython-input-79-1784a7463bf2>\u001b[0m in \u001b[0;36m<module>\u001b[1;34m\u001b[0m\n\u001b[1;32m----> 1\u001b[1;33m \u001b[1;36m6\u001b[0m \u001b[1;33m+\u001b[0m \u001b[1;34m'만'\u001b[0m\u001b[1;33m\u001b[0m\u001b[0m\n\u001b[0m",
      "\u001b[1;31mTypeError\u001b[0m: unsupported operand type(s) for +: 'int' and 'str'"
     ]
    }
   ],
   "source": [
    "6 + '만'"
   ]
  },
  {
   "cell_type": "code",
   "execution_count": 84,
   "metadata": {},
   "outputs": [
    {
     "data": {
      "text/plain": [
       "'6만'"
      ]
     },
     "execution_count": 84,
     "metadata": {},
     "output_type": "execute_result"
    }
   ],
   "source": [
    "str(6) + '만'"
   ]
  },
  {
   "cell_type": "code",
   "execution_count": 67,
   "metadata": {},
   "outputs": [
    {
     "data": {
      "text/plain": [
       "곡일련번호\n",
       "31346009     6\n",
       "31344113     4\n",
       "31340985     5\n",
       "31316695     9\n",
       "31266290    17\n",
       "            ..\n",
       "30937275    14\n",
       "31147213     2\n",
       "31288765     4\n",
       "31147214     2\n",
       "30806540     8\n",
       "Name: 좋아요, Length: 100, dtype: object"
      ]
     },
     "execution_count": 67,
     "metadata": {},
     "output_type": "execute_result"
    }
   ],
   "source": [
    "(df['좋아요'] // 10000).apply(lambda value:str(value))"
   ]
  },
  {
   "cell_type": "code",
   "execution_count": 70,
   "metadata": {},
   "outputs": [
    {
     "data": {
      "text/plain": [
       "곡일련번호\n",
       "31346009     6\n",
       "31344113     4\n",
       "31340985     5\n",
       "31316695     9\n",
       "31266290    17\n",
       "            ..\n",
       "30937275    14\n",
       "31147213     2\n",
       "31288765     4\n",
       "31147214     2\n",
       "30806540     8\n",
       "Name: 좋아요, Length: 100, dtype: int64"
      ]
     },
     "execution_count": 70,
     "metadata": {},
     "output_type": "execute_result"
    }
   ],
   "source": [
    "df['좋아요'] // 10000"
   ]
  },
  {
   "cell_type": "code",
   "execution_count": 71,
   "metadata": {},
   "outputs": [
    {
     "data": {
      "text/html": [
       "<div>\n",
       "<style scoped>\n",
       "    .dataframe tbody tr th:only-of-type {\n",
       "        vertical-align: middle;\n",
       "    }\n",
       "\n",
       "    .dataframe tbody tr th {\n",
       "        vertical-align: top;\n",
       "    }\n",
       "\n",
       "    .dataframe thead th {\n",
       "        text-align: right;\n",
       "    }\n",
       "</style>\n",
       "<table border=\"1\" class=\"dataframe\">\n",
       "  <thead>\n",
       "    <tr style=\"text-align: right;\">\n",
       "      <th></th>\n",
       "      <th>level_0</th>\n",
       "      <th>index</th>\n",
       "      <th>순위</th>\n",
       "      <th>앨범</th>\n",
       "      <th>곡명</th>\n",
       "      <th>가수</th>\n",
       "      <th>커버이미지_주소</th>\n",
       "      <th>좋아요</th>\n",
       "      <th>좋아요_만단위</th>\n",
       "    </tr>\n",
       "    <tr>\n",
       "      <th>곡일련번호</th>\n",
       "      <th></th>\n",
       "      <th></th>\n",
       "      <th></th>\n",
       "      <th></th>\n",
       "      <th></th>\n",
       "      <th></th>\n",
       "      <th></th>\n",
       "      <th></th>\n",
       "      <th></th>\n",
       "    </tr>\n",
       "  </thead>\n",
       "  <tbody>\n",
       "    <tr>\n",
       "      <td>31346009</td>\n",
       "      <td>0</td>\n",
       "      <td>0</td>\n",
       "      <td>1</td>\n",
       "      <td>삐삐</td>\n",
       "      <td>삐삐</td>\n",
       "      <td>아이유</td>\n",
       "      <td>https://cdnimg.melon.co.kr/cm/album/images/102...</td>\n",
       "      <td>61528</td>\n",
       "      <td>6만</td>\n",
       "    </tr>\n",
       "    <tr>\n",
       "      <td>31344113</td>\n",
       "      <td>1</td>\n",
       "      <td>1</td>\n",
       "      <td>2</td>\n",
       "      <td>시간이 들겠지</td>\n",
       "      <td>시간이 들겠지 (Feat. Colde)</td>\n",
       "      <td>로꼬</td>\n",
       "      <td>https://cdnimg.melon.co.kr/cm/album/images/102...</td>\n",
       "      <td>48331</td>\n",
       "      <td>4만</td>\n",
       "    </tr>\n",
       "    <tr>\n",
       "      <td>31340985</td>\n",
       "      <td>2</td>\n",
       "      <td>2</td>\n",
       "      <td>3</td>\n",
       "      <td>쇼미더머니 777 Episode 1</td>\n",
       "      <td>Good Day (Feat. 팔로알토) (Prod. 코드 쿤스트)</td>\n",
       "      <td>pH-1</td>\n",
       "      <td>https://cdnimg.melon.co.kr/cm/album/images/102...</td>\n",
       "      <td>54022</td>\n",
       "      <td>5만</td>\n",
       "    </tr>\n",
       "    <tr>\n",
       "      <td>31316695</td>\n",
       "      <td>3</td>\n",
       "      <td>3</td>\n",
       "      <td>4</td>\n",
       "      <td>하루도 그대를 사랑하지 않은 적이 없었다</td>\n",
       "      <td>하루도 그대를 사랑하지 않은 적이 없었다</td>\n",
       "      <td>임창정</td>\n",
       "      <td>https://cdnimg.melon.co.kr/cm/album/images/102...</td>\n",
       "      <td>97984</td>\n",
       "      <td>9만</td>\n",
       "    </tr>\n",
       "    <tr>\n",
       "      <td>31266290</td>\n",
       "      <td>4</td>\n",
       "      <td>4</td>\n",
       "      <td>5</td>\n",
       "      <td>LOVE YOURSELF 結 `Answer`</td>\n",
       "      <td>IDOL</td>\n",
       "      <td>방탄소년단</td>\n",
       "      <td>https://cdnimg.melon.co.kr/cm/album/images/101...</td>\n",
       "      <td>173279</td>\n",
       "      <td>17만</td>\n",
       "    </tr>\n",
       "  </tbody>\n",
       "</table>\n",
       "</div>"
      ],
      "text/plain": [
       "          level_0  index  순위                        앨범  \\\n",
       "곡일련번호                                                    \n",
       "31346009        0      0   1                        삐삐   \n",
       "31344113        1      1   2                   시간이 들겠지   \n",
       "31340985        2      2   3       쇼미더머니 777 Episode 1   \n",
       "31316695        3      3   4    하루도 그대를 사랑하지 않은 적이 없었다   \n",
       "31266290        4      4   5  LOVE YOURSELF 結 `Answer`   \n",
       "\n",
       "                                            곡명     가수  \\\n",
       "곡일련번호                                                   \n",
       "31346009                                    삐삐    아이유   \n",
       "31344113                 시간이 들겠지 (Feat. Colde)     로꼬   \n",
       "31340985  Good Day (Feat. 팔로알토) (Prod. 코드 쿤스트)   pH-1   \n",
       "31316695                하루도 그대를 사랑하지 않은 적이 없었다    임창정   \n",
       "31266290                                  IDOL  방탄소년단   \n",
       "\n",
       "                                                   커버이미지_주소     좋아요 좋아요_만단위  \n",
       "곡일련번호                                                                        \n",
       "31346009  https://cdnimg.melon.co.kr/cm/album/images/102...   61528      6만  \n",
       "31344113  https://cdnimg.melon.co.kr/cm/album/images/102...   48331      4만  \n",
       "31340985  https://cdnimg.melon.co.kr/cm/album/images/102...   54022      5만  \n",
       "31316695  https://cdnimg.melon.co.kr/cm/album/images/102...   97984      9만  \n",
       "31266290  https://cdnimg.melon.co.kr/cm/album/images/101...  173279     17만  "
      ]
     },
     "execution_count": 71,
     "metadata": {},
     "output_type": "execute_result"
    }
   ],
   "source": [
    "df['좋아요_만단위']= (df['좋아요'] // 10000).astype(str) + '만'\n",
    "#df['좋아요_만단위']= str(df['좋아요'] // 10000) + '만'\n",
    "df.head()"
   ]
  },
  {
   "cell_type": "code",
   "execution_count": 87,
   "metadata": {},
   "outputs": [
    {
     "data": {
      "text/plain": [
       "True"
      ]
     },
     "execution_count": 87,
     "metadata": {},
     "output_type": "execute_result"
    }
   ],
   "source": [
    "곡명 = '하루도 그대를 사랑하지 않은 적이 없었다'\n",
    "'사랑' in 곡명"
   ]
  },
  {
   "cell_type": "code",
   "execution_count": 74,
   "metadata": {},
   "outputs": [
    {
     "data": {
      "text/plain": [
       "True"
      ]
     },
     "execution_count": 74,
     "metadata": {},
     "output_type": "execute_result"
    }
   ],
   "source": [
    "곡명 = ['삐삐','IDOL']\n",
    "#'삐' in 곡명 #False\n",
    "'삐삐' in 곡명"
   ]
  },
  {
   "cell_type": "code",
   "execution_count": 88,
   "metadata": {},
   "outputs": [
    {
     "data": {
      "text/html": [
       "<div>\n",
       "<style scoped>\n",
       "    .dataframe tbody tr th:only-of-type {\n",
       "        vertical-align: middle;\n",
       "    }\n",
       "\n",
       "    .dataframe tbody tr th {\n",
       "        vertical-align: top;\n",
       "    }\n",
       "\n",
       "    .dataframe thead th {\n",
       "        text-align: right;\n",
       "    }\n",
       "</style>\n",
       "<table border=\"1\" class=\"dataframe\">\n",
       "  <thead>\n",
       "    <tr style=\"text-align: right;\">\n",
       "      <th></th>\n",
       "      <th>순위</th>\n",
       "      <th>앨범</th>\n",
       "      <th>곡명</th>\n",
       "      <th>가수</th>\n",
       "      <th>커버이미지_주소</th>\n",
       "      <th>좋아요</th>\n",
       "      <th>글자수</th>\n",
       "      <th>좋아요_만단위</th>\n",
       "    </tr>\n",
       "    <tr>\n",
       "      <th>곡일련번호</th>\n",
       "      <th></th>\n",
       "      <th></th>\n",
       "      <th></th>\n",
       "      <th></th>\n",
       "      <th></th>\n",
       "      <th></th>\n",
       "      <th></th>\n",
       "      <th></th>\n",
       "    </tr>\n",
       "  </thead>\n",
       "  <tbody>\n",
       "    <tr>\n",
       "      <td>31314144</td>\n",
       "      <td>11</td>\n",
       "      <td>가을 타나 봐</td>\n",
       "      <td>가을 타나 봐</td>\n",
       "      <td>바이브</td>\n",
       "      <td>https://cdnimg.melon.co.kr/cm/album/images/102...</td>\n",
       "      <td>28056</td>\n",
       "      <td>10</td>\n",
       "      <td>2만</td>\n",
       "    </tr>\n",
       "    <tr>\n",
       "      <td>30669593</td>\n",
       "      <td>53</td>\n",
       "      <td>가을 안부</td>\n",
       "      <td>가을 안부</td>\n",
       "      <td>먼데이 키즈 (Monday Kiz)</td>\n",
       "      <td>https://cdnimg.melon.co.kr/cm/album/images/101...</td>\n",
       "      <td>109447</td>\n",
       "      <td>10</td>\n",
       "      <td>10만</td>\n",
       "    </tr>\n",
       "  </tbody>\n",
       "</table>\n",
       "</div>"
      ],
      "text/plain": [
       "          순위       앨범       곡명                   가수  \\\n",
       "곡일련번호                                                 \n",
       "31314144  11  가을 타나 봐  가을 타나 봐                  바이브   \n",
       "30669593  53    가을 안부    가을 안부  먼데이 키즈 (Monday Kiz)   \n",
       "\n",
       "                                                   커버이미지_주소     좋아요  글자수  \\\n",
       "곡일련번호                                                                      \n",
       "31314144  https://cdnimg.melon.co.kr/cm/album/images/102...   28056   10   \n",
       "30669593  https://cdnimg.melon.co.kr/cm/album/images/101...  109447   10   \n",
       "\n",
       "         좋아요_만단위  \n",
       "곡일련번호             \n",
       "31314144      2만  \n",
       "30669593     10만  "
      ]
     },
     "execution_count": 88,
     "metadata": {},
     "output_type": "execute_result"
    }
   ],
   "source": [
    "mask = df['곡명'].str.contains('가을')\n",
    "df.loc[mask]"
   ]
  },
  {
   "cell_type": "code",
   "execution_count": 24,
   "metadata": {},
   "outputs": [
    {
     "data": {
      "text/plain": [
       "True"
      ]
     },
     "execution_count": 24,
     "metadata": {},
     "output_type": "execute_result"
    }
   ],
   "source": [
    "b = \"aa_bb\"\n",
    "c = b.split('_')\n",
    "c[0] == b.split('_')[0]"
   ]
  },
  {
   "cell_type": "code",
   "execution_count": 25,
   "metadata": {},
   "outputs": [
    {
     "data": {
      "text/plain": [
       "'bb'"
      ]
     },
     "execution_count": 25,
     "metadata": {},
     "output_type": "execute_result"
    }
   ],
   "source": [
    "b = \"aa_bb\"\n",
    "b.split('_')[1]"
   ]
  },
  {
   "cell_type": "code",
   "execution_count": 26,
   "metadata": {},
   "outputs": [
    {
     "data": {
      "text/plain": [
       "'aa'"
      ]
     },
     "execution_count": 26,
     "metadata": {},
     "output_type": "execute_result"
    }
   ],
   "source": [
    "b = \"aa.bb\"\n",
    "b.split('.')[0]"
   ]
  },
  {
   "cell_type": "code",
   "execution_count": 29,
   "metadata": {},
   "outputs": [
    {
     "data": {
      "text/plain": [
       "False"
      ]
     },
     "execution_count": 29,
     "metadata": {},
     "output_type": "execute_result"
    }
   ],
   "source": [
    "'은' in ['은녕','중한']"
   ]
  },
  {
   "cell_type": "code",
   "execution_count": 39,
   "metadata": {},
   "outputs": [
    {
     "data": {
      "text/plain": [
       "'aa'"
      ]
     },
     "execution_count": 39,
     "metadata": {},
     "output_type": "execute_result"
    }
   ],
   "source": [
    "# 언더바(_)를 기준으로 왼쪽 텍스트만 가져옵니다. 언더바가 없을 경우 점(.)의 왼쪽 텍스트만 가져옵니다.\n",
    "def getText(a):\n",
    "    if '_' in a:\n",
    "        return a.split('_')[0]\n",
    "    else:\n",
    "        return a.split('.')[0]\n",
    "    \n",
    "getText('aa_bb')"
   ]
  },
  {
   "cell_type": "code",
   "execution_count": 36,
   "metadata": {},
   "outputs": [
    {
     "data": {
      "text/plain": [
       "'cc'"
      ]
     },
     "execution_count": 36,
     "metadata": {},
     "output_type": "execute_result"
    }
   ],
   "source": [
    "getText('cc.bb')"
   ]
  },
  {
   "cell_type": "code",
   "execution_count": null,
   "metadata": {},
   "outputs": [],
   "source": []
  }
 ],
 "metadata": {
  "kernelspec": {
   "display_name": "Python 3",
   "language": "python",
   "name": "python3"
  },
  "language_info": {
   "codemirror_mode": {
    "name": "ipython",
    "version": 3
   },
   "file_extension": ".py",
   "mimetype": "text/x-python",
   "name": "python",
   "nbconvert_exporter": "python",
   "pygments_lexer": "ipython3",
   "version": "3.6.6"
  }
 },
 "nbformat": 4,
 "nbformat_minor": 2
}
