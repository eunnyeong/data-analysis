{
 "cells": [
  {
   "cell_type": "code",
   "execution_count": 1,
   "metadata": {},
   "outputs": [],
   "source": [
    "import pandas as pd\n",
    "\n",
    "pd.options.display.max_columns = 100"
   ]
  },
  {
   "cell_type": "code",
   "execution_count": 2,
   "metadata": {},
   "outputs": [
    {
     "name": "stdout",
     "output_type": "stream",
     "text": [
      "(434244, 19)\n"
     ]
    },
    {
     "data": {
      "text/html": [
       "<div>\n",
       "<style scoped>\n",
       "    .dataframe tbody tr th:only-of-type {\n",
       "        vertical-align: middle;\n",
       "    }\n",
       "\n",
       "    .dataframe tbody tr th {\n",
       "        vertical-align: top;\n",
       "    }\n",
       "\n",
       "    .dataframe thead th {\n",
       "        text-align: right;\n",
       "    }\n",
       "</style>\n",
       "<table border=\"1\" class=\"dataframe\">\n",
       "  <thead>\n",
       "    <tr style=\"text-align: right;\">\n",
       "      <th></th>\n",
       "      <th>eventcategory</th>\n",
       "      <th>isfirstactivity</th>\n",
       "      <th>apppackagename</th>\n",
       "      <th>appversion</th>\n",
       "      <th>devicetype</th>\n",
       "      <th>devicemanufacturer</th>\n",
       "      <th>osversion</th>\n",
       "      <th>canonicaldeviceuuid</th>\n",
       "      <th>sourcetype</th>\n",
       "      <th>channel</th>\n",
       "      <th>params_campaign</th>\n",
       "      <th>params_medium</th>\n",
       "      <th>params_term</th>\n",
       "      <th>inappeventcategory</th>\n",
       "      <th>inappeventlabel</th>\n",
       "      <th>eventdatetime</th>\n",
       "      <th>rowuuid</th>\n",
       "      <th>isfirstgoalactivity</th>\n",
       "      <th>event_rank</th>\n",
       "    </tr>\n",
       "  </thead>\n",
       "  <tbody>\n",
       "    <tr>\n",
       "      <td>0</td>\n",
       "      <td>goal</td>\n",
       "      <td>False</td>\n",
       "      <td>com.kmong.iOS</td>\n",
       "      <td>4.0.4</td>\n",
       "      <td>iPhone</td>\n",
       "      <td>Apple</td>\n",
       "      <td>iOS11.4.1</td>\n",
       "      <td>F36FAA62-ADAC-4AA5-9B00-1FD6CB7EE957</td>\n",
       "      <td>unattributed</td>\n",
       "      <td>unattributed</td>\n",
       "      <td>NaN</td>\n",
       "      <td>NaN</td>\n",
       "      <td>NaN</td>\n",
       "      <td>home.view</td>\n",
       "      <td>NaN</td>\n",
       "      <td>2018-09-28T00:00:00+09:00</td>\n",
       "      <td>fd2a188c-bc9b-4702-9c47-b546b2614817</td>\n",
       "      <td>False</td>\n",
       "      <td>True</td>\n",
       "    </tr>\n",
       "    <tr>\n",
       "      <td>1</td>\n",
       "      <td>goal</td>\n",
       "      <td>False</td>\n",
       "      <td>com.kmong.kmong</td>\n",
       "      <td>3.3.5</td>\n",
       "      <td>SM-N935S</td>\n",
       "      <td>samsung</td>\n",
       "      <td>Android7.0</td>\n",
       "      <td>8a871e50-0717-4aed-9bad-04ac3c3793be</td>\n",
       "      <td>unattributed</td>\n",
       "      <td>unattributed</td>\n",
       "      <td>NaN</td>\n",
       "      <td>NaN</td>\n",
       "      <td>NaN</td>\n",
       "      <td>gig_detail.view</td>\n",
       "      <td>41201.0</td>\n",
       "      <td>2018-09-28T00:00:00+09:00</td>\n",
       "      <td>e62dccef-dd70-4415-8a33-c8324ddaed38</td>\n",
       "      <td>False</td>\n",
       "      <td>True</td>\n",
       "    </tr>\n",
       "    <tr>\n",
       "      <td>2</td>\n",
       "      <td>goal</td>\n",
       "      <td>False</td>\n",
       "      <td>com.kmong.iOS</td>\n",
       "      <td>4.0.4</td>\n",
       "      <td>iPhone</td>\n",
       "      <td>Apple</td>\n",
       "      <td>iOS12.0</td>\n",
       "      <td>A9E5778A-8F3D-4597-9718-74BF953A9F64</td>\n",
       "      <td>unattributed</td>\n",
       "      <td>unattributed</td>\n",
       "      <td>NaN</td>\n",
       "      <td>NaN</td>\n",
       "      <td>NaN</td>\n",
       "      <td>inbox_detail.view</td>\n",
       "      <td>NaN</td>\n",
       "      <td>2018-09-28T00:00:00+09:00</td>\n",
       "      <td>14eb3197-db83-493a-b7be-83582960c40b</td>\n",
       "      <td>False</td>\n",
       "      <td>True</td>\n",
       "    </tr>\n",
       "    <tr>\n",
       "      <td>3</td>\n",
       "      <td>foreground</td>\n",
       "      <td>NaN</td>\n",
       "      <td>com.kmong.iOS</td>\n",
       "      <td>4.0.4</td>\n",
       "      <td>iPhone</td>\n",
       "      <td>Apple</td>\n",
       "      <td>iOS11.4.1</td>\n",
       "      <td>168761CB-CB67-4592-867D-52780D651297</td>\n",
       "      <td>NaN</td>\n",
       "      <td>NaN</td>\n",
       "      <td>NaN</td>\n",
       "      <td>NaN</td>\n",
       "      <td>NaN</td>\n",
       "      <td>NaN</td>\n",
       "      <td>NaN</td>\n",
       "      <td>2018-09-28T00:00:01+09:00</td>\n",
       "      <td>f9bb91af-248b-44dc-9f5c-1c00b37ea97b</td>\n",
       "      <td>NaN</td>\n",
       "      <td>True</td>\n",
       "    </tr>\n",
       "    <tr>\n",
       "      <td>4</td>\n",
       "      <td>goal</td>\n",
       "      <td>False</td>\n",
       "      <td>com.kmong.iOS</td>\n",
       "      <td>4.0.4</td>\n",
       "      <td>iPhone</td>\n",
       "      <td>Apple</td>\n",
       "      <td>iOS11.4.1</td>\n",
       "      <td>ACABB7C0-4C76-413A-B314-E5D6DA0D0E5D</td>\n",
       "      <td>viral</td>\n",
       "      <td>WEB</td>\n",
       "      <td>NaN</td>\n",
       "      <td>NaN</td>\n",
       "      <td>NaN</td>\n",
       "      <td>buyer_order_track.view</td>\n",
       "      <td>NaN</td>\n",
       "      <td>2018-09-28T00:00:02+09:00</td>\n",
       "      <td>236e9946-7801-4898-b609-06c8ab1139dc</td>\n",
       "      <td>False</td>\n",
       "      <td>True</td>\n",
       "    </tr>\n",
       "  </tbody>\n",
       "</table>\n",
       "</div>"
      ],
      "text/plain": [
       "  eventcategory isfirstactivity   apppackagename appversion devicetype  \\\n",
       "0          goal           False    com.kmong.iOS      4.0.4     iPhone   \n",
       "1          goal           False  com.kmong.kmong      3.3.5   SM-N935S   \n",
       "2          goal           False    com.kmong.iOS      4.0.4     iPhone   \n",
       "3    foreground             NaN    com.kmong.iOS      4.0.4     iPhone   \n",
       "4          goal           False    com.kmong.iOS      4.0.4     iPhone   \n",
       "\n",
       "  devicemanufacturer   osversion                   canonicaldeviceuuid  \\\n",
       "0              Apple   iOS11.4.1  F36FAA62-ADAC-4AA5-9B00-1FD6CB7EE957   \n",
       "1            samsung  Android7.0  8a871e50-0717-4aed-9bad-04ac3c3793be   \n",
       "2              Apple     iOS12.0  A9E5778A-8F3D-4597-9718-74BF953A9F64   \n",
       "3              Apple   iOS11.4.1  168761CB-CB67-4592-867D-52780D651297   \n",
       "4              Apple   iOS11.4.1  ACABB7C0-4C76-413A-B314-E5D6DA0D0E5D   \n",
       "\n",
       "     sourcetype       channel params_campaign params_medium params_term  \\\n",
       "0  unattributed  unattributed             NaN           NaN         NaN   \n",
       "1  unattributed  unattributed             NaN           NaN         NaN   \n",
       "2  unattributed  unattributed             NaN           NaN         NaN   \n",
       "3           NaN           NaN             NaN           NaN         NaN   \n",
       "4         viral           WEB             NaN           NaN         NaN   \n",
       "\n",
       "       inappeventcategory  inappeventlabel              eventdatetime  \\\n",
       "0               home.view              NaN  2018-09-28T00:00:00+09:00   \n",
       "1         gig_detail.view          41201.0  2018-09-28T00:00:00+09:00   \n",
       "2       inbox_detail.view              NaN  2018-09-28T00:00:00+09:00   \n",
       "3                     NaN              NaN  2018-09-28T00:00:01+09:00   \n",
       "4  buyer_order_track.view              NaN  2018-09-28T00:00:02+09:00   \n",
       "\n",
       "                                rowuuid isfirstgoalactivity  event_rank  \n",
       "0  fd2a188c-bc9b-4702-9c47-b546b2614817               False        True  \n",
       "1  e62dccef-dd70-4415-8a33-c8324ddaed38               False        True  \n",
       "2  14eb3197-db83-493a-b7be-83582960c40b               False        True  \n",
       "3  f9bb91af-248b-44dc-9f5c-1c00b37ea97b                 NaN        True  \n",
       "4  236e9946-7801-4898-b609-06c8ab1139dc               False        True  "
      ]
     },
     "execution_count": 2,
     "metadata": {},
     "output_type": "execute_result"
    }
   ],
   "source": [
    "raw_log = pd.read_csv(\"~/Downloads/kmong/data/kmong-conversion.csv\")\n",
    "\n",
    "print(raw_log.shape)\n",
    "\n",
    "raw_log.head()"
   ]
  },
  {
   "cell_type": "code",
   "execution_count": 3,
   "metadata": {},
   "outputs": [
    {
     "name": "stdout",
     "output_type": "stream",
     "text": [
      "(53, 6)\n"
     ]
    },
    {
     "data": {
      "text/html": [
       "<div>\n",
       "<style scoped>\n",
       "    .dataframe tbody tr th:only-of-type {\n",
       "        vertical-align: middle;\n",
       "    }\n",
       "\n",
       "    .dataframe tbody tr th {\n",
       "        vertical-align: top;\n",
       "    }\n",
       "\n",
       "    .dataframe thead th {\n",
       "        text-align: right;\n",
       "    }\n",
       "</style>\n",
       "<table border=\"1\" class=\"dataframe\">\n",
       "  <thead>\n",
       "    <tr style=\"text-align: right;\">\n",
       "      <th></th>\n",
       "      <th>Lv2</th>\n",
       "      <th>viewid</th>\n",
       "      <th>viewid desc</th>\n",
       "      <th>Lv1</th>\n",
       "      <th>funnel name</th>\n",
       "      <th>funnel desc</th>\n",
       "    </tr>\n",
       "  </thead>\n",
       "  <tbody>\n",
       "    <tr>\n",
       "      <td>0</td>\n",
       "      <td>1100</td>\n",
       "      <td>home</td>\n",
       "      <td>홈 (탭)</td>\n",
       "      <td>11</td>\n",
       "      <td>home</td>\n",
       "      <td>홈</td>\n",
       "    </tr>\n",
       "    <tr>\n",
       "      <td>1</td>\n",
       "      <td>1210</td>\n",
       "      <td>category_list</td>\n",
       "      <td>카테고리 목록 (탭)</td>\n",
       "      <td>12</td>\n",
       "      <td>category</td>\n",
       "      <td>카테고리</td>\n",
       "    </tr>\n",
       "    <tr>\n",
       "      <td>2</td>\n",
       "      <td>1200</td>\n",
       "      <td>category_gig</td>\n",
       "      <td>카테고리-상품목록</td>\n",
       "      <td>12</td>\n",
       "      <td>category</td>\n",
       "      <td>카테고리</td>\n",
       "    </tr>\n",
       "    <tr>\n",
       "      <td>3</td>\n",
       "      <td>1300</td>\n",
       "      <td>search</td>\n",
       "      <td>검색</td>\n",
       "      <td>13</td>\n",
       "      <td>search</td>\n",
       "      <td>검색</td>\n",
       "    </tr>\n",
       "    <tr>\n",
       "      <td>4</td>\n",
       "      <td>1301</td>\n",
       "      <td>search_gig</td>\n",
       "      <td>검색-상품목록</td>\n",
       "      <td>13</td>\n",
       "      <td>search</td>\n",
       "      <td>검색</td>\n",
       "    </tr>\n",
       "  </tbody>\n",
       "</table>\n",
       "</div>"
      ],
      "text/plain": [
       "    Lv2         viewid  viewid desc  Lv1 funnel name funnel desc\n",
       "0  1100           home        홈 (탭)   11        home           홈\n",
       "1  1210  category_list  카테고리 목록 (탭)   12    category        카테고리\n",
       "2  1200   category_gig    카테고리-상품목록   12    category        카테고리\n",
       "3  1300         search           검색   13      search          검색\n",
       "4  1301     search_gig      검색-상품목록   13      search          검색"
      ]
     },
     "execution_count": 3,
     "metadata": {},
     "output_type": "execute_result"
    }
   ],
   "source": [
    "raw_funnel = pd.read_csv(\"~/Downloads/kmong/data/kmong-funnel.csv\")\n",
    "\n",
    "print(raw_funnel.shape)\n",
    "\n",
    "raw_funnel.head()"
   ]
  },
  {
   "cell_type": "code",
   "execution_count": 4,
   "metadata": {},
   "outputs": [
    {
     "name": "stdout",
     "output_type": "stream",
     "text": [
      "(245, 9)\n"
     ]
    },
    {
     "data": {
      "text/html": [
       "<div>\n",
       "<style scoped>\n",
       "    .dataframe tbody tr th:only-of-type {\n",
       "        vertical-align: middle;\n",
       "    }\n",
       "\n",
       "    .dataframe tbody tr th {\n",
       "        vertical-align: top;\n",
       "    }\n",
       "\n",
       "    .dataframe thead th {\n",
       "        text-align: right;\n",
       "    }\n",
       "</style>\n",
       "<table border=\"1\" class=\"dataframe\">\n",
       "  <thead>\n",
       "    <tr style=\"text-align: right;\">\n",
       "      <th></th>\n",
       "      <th>depth</th>\n",
       "      <th>categoryid</th>\n",
       "      <th>categoryname</th>\n",
       "      <th>cat1_id</th>\n",
       "      <th>cat2_id</th>\n",
       "      <th>cat3_id</th>\n",
       "      <th>cat1</th>\n",
       "      <th>cat2</th>\n",
       "      <th>cat3</th>\n",
       "    </tr>\n",
       "  </thead>\n",
       "  <tbody>\n",
       "    <tr>\n",
       "      <td>0</td>\n",
       "      <td>1</td>\n",
       "      <td>1</td>\n",
       "      <td>디자인</td>\n",
       "      <td>1</td>\n",
       "      <td>NaN</td>\n",
       "      <td>NaN</td>\n",
       "      <td>디자인</td>\n",
       "      <td>NaN</td>\n",
       "      <td>NaN</td>\n",
       "    </tr>\n",
       "    <tr>\n",
       "      <td>1</td>\n",
       "      <td>1</td>\n",
       "      <td>2</td>\n",
       "      <td>마케팅</td>\n",
       "      <td>2</td>\n",
       "      <td>NaN</td>\n",
       "      <td>NaN</td>\n",
       "      <td>마케팅</td>\n",
       "      <td>NaN</td>\n",
       "      <td>NaN</td>\n",
       "    </tr>\n",
       "    <tr>\n",
       "      <td>2</td>\n",
       "      <td>1</td>\n",
       "      <td>3</td>\n",
       "      <td>번역·통역</td>\n",
       "      <td>3</td>\n",
       "      <td>NaN</td>\n",
       "      <td>NaN</td>\n",
       "      <td>번역·통역</td>\n",
       "      <td>NaN</td>\n",
       "      <td>NaN</td>\n",
       "    </tr>\n",
       "    <tr>\n",
       "      <td>3</td>\n",
       "      <td>1</td>\n",
       "      <td>4</td>\n",
       "      <td>문서작성</td>\n",
       "      <td>4</td>\n",
       "      <td>NaN</td>\n",
       "      <td>NaN</td>\n",
       "      <td>문서작성</td>\n",
       "      <td>NaN</td>\n",
       "      <td>NaN</td>\n",
       "    </tr>\n",
       "    <tr>\n",
       "      <td>4</td>\n",
       "      <td>1</td>\n",
       "      <td>6</td>\n",
       "      <td>IT·프로그래밍</td>\n",
       "      <td>6</td>\n",
       "      <td>NaN</td>\n",
       "      <td>NaN</td>\n",
       "      <td>IT·프로그래밍</td>\n",
       "      <td>NaN</td>\n",
       "      <td>NaN</td>\n",
       "    </tr>\n",
       "  </tbody>\n",
       "</table>\n",
       "</div>"
      ],
      "text/plain": [
       "   depth  categoryid categoryname  cat1_id  cat2_id  cat3_id      cat1 cat2  \\\n",
       "0      1           1          디자인        1      NaN      NaN       디자인  NaN   \n",
       "1      1           2          마케팅        2      NaN      NaN       마케팅  NaN   \n",
       "2      1           3        번역·통역        3      NaN      NaN     번역·통역  NaN   \n",
       "3      1           4         문서작성        4      NaN      NaN      문서작성  NaN   \n",
       "4      1           6     IT·프로그래밍        6      NaN      NaN  IT·프로그래밍  NaN   \n",
       "\n",
       "  cat3  \n",
       "0  NaN  \n",
       "1  NaN  \n",
       "2  NaN  \n",
       "3  NaN  \n",
       "4  NaN  "
      ]
     },
     "execution_count": 4,
     "metadata": {},
     "output_type": "execute_result"
    }
   ],
   "source": [
    "raw_category = pd.read_csv(\"~/Downloads/kmong/data/kmong-category.csv\")\n",
    "\n",
    "print(raw_category.shape)\n",
    "\n",
    "raw_category.head()"
   ]
  },
  {
   "cell_type": "code",
   "execution_count": 5,
   "metadata": {},
   "outputs": [
    {
     "data": {
      "text/plain": [
       "434244"
      ]
     },
     "execution_count": 5,
     "metadata": {},
     "output_type": "execute_result"
    }
   ],
   "source": [
    "len(raw_log[\"canonicaldeviceuuid\"])"
   ]
  },
  {
   "cell_type": "code",
   "execution_count": 6,
   "metadata": {},
   "outputs": [
    {
     "data": {
      "text/html": [
       "<div>\n",
       "<style scoped>\n",
       "    .dataframe tbody tr th:only-of-type {\n",
       "        vertical-align: middle;\n",
       "    }\n",
       "\n",
       "    .dataframe tbody tr th {\n",
       "        vertical-align: top;\n",
       "    }\n",
       "\n",
       "    .dataframe thead th {\n",
       "        text-align: right;\n",
       "    }\n",
       "</style>\n",
       "<table border=\"1\" class=\"dataframe\">\n",
       "  <thead>\n",
       "    <tr style=\"text-align: right;\">\n",
       "      <th></th>\n",
       "      <th>canonicaldeviceuuid</th>\n",
       "      <th>userid</th>\n",
       "    </tr>\n",
       "  </thead>\n",
       "  <tbody>\n",
       "    <tr>\n",
       "      <td>0</td>\n",
       "      <td>F36FAA62-ADAC-4AA5-9B00-1FD6CB7EE957</td>\n",
       "      <td>F36FAA62-ADAC-4AA5-9B00-1FD6CB7EE957</td>\n",
       "    </tr>\n",
       "    <tr>\n",
       "      <td>1</td>\n",
       "      <td>8a871e50-0717-4aed-9bad-04ac3c3793be</td>\n",
       "      <td>8a871e50-0717-4aed-9bad-04ac3c3793be</td>\n",
       "    </tr>\n",
       "    <tr>\n",
       "      <td>2</td>\n",
       "      <td>A9E5778A-8F3D-4597-9718-74BF953A9F64</td>\n",
       "      <td>A9E5778A-8F3D-4597-9718-74BF953A9F64</td>\n",
       "    </tr>\n",
       "    <tr>\n",
       "      <td>3</td>\n",
       "      <td>168761CB-CB67-4592-867D-52780D651297</td>\n",
       "      <td>168761CB-CB67-4592-867D-52780D651297</td>\n",
       "    </tr>\n",
       "    <tr>\n",
       "      <td>4</td>\n",
       "      <td>ACABB7C0-4C76-413A-B314-E5D6DA0D0E5D</td>\n",
       "      <td>ACABB7C0-4C76-413A-B314-E5D6DA0D0E5D</td>\n",
       "    </tr>\n",
       "  </tbody>\n",
       "</table>\n",
       "</div>"
      ],
      "text/plain": [
       "                    canonicaldeviceuuid                                userid\n",
       "0  F36FAA62-ADAC-4AA5-9B00-1FD6CB7EE957  F36FAA62-ADAC-4AA5-9B00-1FD6CB7EE957\n",
       "1  8a871e50-0717-4aed-9bad-04ac3c3793be  8a871e50-0717-4aed-9bad-04ac3c3793be\n",
       "2  A9E5778A-8F3D-4597-9718-74BF953A9F64  A9E5778A-8F3D-4597-9718-74BF953A9F64\n",
       "3  168761CB-CB67-4592-867D-52780D651297  168761CB-CB67-4592-867D-52780D651297\n",
       "4  ACABB7C0-4C76-413A-B314-E5D6DA0D0E5D  ACABB7C0-4C76-413A-B314-E5D6DA0D0E5D"
      ]
     },
     "execution_count": 6,
     "metadata": {},
     "output_type": "execute_result"
    }
   ],
   "source": [
    "raw_log[\"userid\"] = raw_log[\"canonicaldeviceuuid\"]\n",
    "\n",
    "raw_log[[\"canonicaldeviceuuid\", \"userid\"]].head()"
   ]
  },
  {
   "cell_type": "code",
   "execution_count": 7,
   "metadata": {
    "scrolled": true
   },
   "outputs": [
    {
     "data": {
      "text/html": [
       "<div>\n",
       "<style scoped>\n",
       "    .dataframe tbody tr th:only-of-type {\n",
       "        vertical-align: middle;\n",
       "    }\n",
       "\n",
       "    .dataframe tbody tr th {\n",
       "        vertical-align: top;\n",
       "    }\n",
       "\n",
       "    .dataframe thead th {\n",
       "        text-align: right;\n",
       "    }\n",
       "</style>\n",
       "<table border=\"1\" class=\"dataframe\">\n",
       "  <thead>\n",
       "    <tr style=\"text-align: right;\">\n",
       "      <th></th>\n",
       "      <th>eventdatetime</th>\n",
       "      <th>eventdatetime_year</th>\n",
       "      <th>eventdatetime_month</th>\n",
       "      <th>eventdatetime_day</th>\n",
       "      <th>eventdatetime_hour</th>\n",
       "      <th>eventdatetime_minute</th>\n",
       "      <th>eventdatetime_second</th>\n",
       "    </tr>\n",
       "  </thead>\n",
       "  <tbody>\n",
       "    <tr>\n",
       "      <td>0</td>\n",
       "      <td>2018-09-28 00:00:00+09:00</td>\n",
       "      <td>2018</td>\n",
       "      <td>9</td>\n",
       "      <td>28</td>\n",
       "      <td>0</td>\n",
       "      <td>0</td>\n",
       "      <td>0</td>\n",
       "    </tr>\n",
       "    <tr>\n",
       "      <td>1</td>\n",
       "      <td>2018-09-28 00:00:00+09:00</td>\n",
       "      <td>2018</td>\n",
       "      <td>9</td>\n",
       "      <td>28</td>\n",
       "      <td>0</td>\n",
       "      <td>0</td>\n",
       "      <td>0</td>\n",
       "    </tr>\n",
       "    <tr>\n",
       "      <td>2</td>\n",
       "      <td>2018-09-28 00:00:00+09:00</td>\n",
       "      <td>2018</td>\n",
       "      <td>9</td>\n",
       "      <td>28</td>\n",
       "      <td>0</td>\n",
       "      <td>0</td>\n",
       "      <td>0</td>\n",
       "    </tr>\n",
       "    <tr>\n",
       "      <td>3</td>\n",
       "      <td>2018-09-28 00:00:01+09:00</td>\n",
       "      <td>2018</td>\n",
       "      <td>9</td>\n",
       "      <td>28</td>\n",
       "      <td>0</td>\n",
       "      <td>0</td>\n",
       "      <td>1</td>\n",
       "    </tr>\n",
       "    <tr>\n",
       "      <td>4</td>\n",
       "      <td>2018-09-28 00:00:02+09:00</td>\n",
       "      <td>2018</td>\n",
       "      <td>9</td>\n",
       "      <td>28</td>\n",
       "      <td>0</td>\n",
       "      <td>0</td>\n",
       "      <td>2</td>\n",
       "    </tr>\n",
       "  </tbody>\n",
       "</table>\n",
       "</div>"
      ],
      "text/plain": [
       "              eventdatetime  eventdatetime_year  eventdatetime_month  \\\n",
       "0 2018-09-28 00:00:00+09:00                2018                    9   \n",
       "1 2018-09-28 00:00:00+09:00                2018                    9   \n",
       "2 2018-09-28 00:00:00+09:00                2018                    9   \n",
       "3 2018-09-28 00:00:01+09:00                2018                    9   \n",
       "4 2018-09-28 00:00:02+09:00                2018                    9   \n",
       "\n",
       "   eventdatetime_day  eventdatetime_hour  eventdatetime_minute  \\\n",
       "0                 28                   0                     0   \n",
       "1                 28                   0                     0   \n",
       "2                 28                   0                     0   \n",
       "3                 28                   0                     0   \n",
       "4                 28                   0                     0   \n",
       "\n",
       "   eventdatetime_second  \n",
       "0                     0  \n",
       "1                     0  \n",
       "2                     0  \n",
       "3                     1  \n",
       "4                     2  "
      ]
     },
     "execution_count": 7,
     "metadata": {},
     "output_type": "execute_result"
    }
   ],
   "source": [
    "raw_log[\"eventdatetime\"] = pd.to_datetime(raw_log[\"eventdatetime\"])\n",
    "\n",
    "raw_log[\"eventdatetime_year\"] = raw_log[\"eventdatetime\"].dt.year\n",
    "raw_log[\"eventdatetime_month\"] = raw_log[\"eventdatetime\"].dt.month\n",
    "raw_log[\"eventdatetime_day\"] = raw_log[\"eventdatetime\"].dt.day\n",
    "raw_log[\"eventdatetime_hour\"] = raw_log[\"eventdatetime\"].dt.hour\n",
    "raw_log[\"eventdatetime_minute\"] = raw_log[\"eventdatetime\"].dt.minute\n",
    "raw_log[\"eventdatetime_second\"] = raw_log[\"eventdatetime\"].dt.second\n",
    "\n",
    "raw_log[[\"eventdatetime\", \"eventdatetime_year\", \"eventdatetime_month\", \"eventdatetime_day\", \"eventdatetime_hour\", \"eventdatetime_minute\", \"eventdatetime_second\"]].head()"
   ]
  },
  {
   "cell_type": "markdown",
   "metadata": {},
   "source": [
    "3."
   ]
  },
  {
   "cell_type": "code",
   "execution_count": 8,
   "metadata": {},
   "outputs": [],
   "source": [
    "def find_ostype(osversion):\n",
    "\n",
    "    if \"iOS\" in osversion:\n",
    "        return 'iOS'\n",
    "\n",
    "    else:\n",
    "        return 'Android'"
   ]
  },
  {
   "cell_type": "code",
   "execution_count": 9,
   "metadata": {},
   "outputs": [
    {
     "data": {
      "text/plain": [
       "'iOS'"
      ]
     },
     "execution_count": 9,
     "metadata": {},
     "output_type": "execute_result"
    }
   ],
   "source": [
    "find_ostype(\"iOS11.4.1\")"
   ]
  },
  {
   "cell_type": "code",
   "execution_count": 10,
   "metadata": {},
   "outputs": [
    {
     "data": {
      "text/plain": [
       "'Android'"
      ]
     },
     "execution_count": 10,
     "metadata": {},
     "output_type": "execute_result"
    }
   ],
   "source": [
    "find_ostype(\"Android7.0\")"
   ]
  },
  {
   "cell_type": "code",
   "execution_count": 12,
   "metadata": {},
   "outputs": [],
   "source": [
    "def find_osversion(osversion):\n",
    "\n",
    "    return osversion.replace(\"iOS\", \"\").replace(\"Android\", \"\")"
   ]
  },
  {
   "cell_type": "code",
   "execution_count": 13,
   "metadata": {},
   "outputs": [
    {
     "data": {
      "text/plain": [
       "'11.4.1'"
      ]
     },
     "execution_count": 13,
     "metadata": {},
     "output_type": "execute_result"
    }
   ],
   "source": [
    "find_osversion(\"iOS11.4.1\")"
   ]
  },
  {
   "cell_type": "code",
   "execution_count": 14,
   "metadata": {},
   "outputs": [
    {
     "data": {
      "text/plain": [
       "'7.0'"
      ]
     },
     "execution_count": 14,
     "metadata": {},
     "output_type": "execute_result"
    }
   ],
   "source": [
    "find_osversion(\"Android7.0\")"
   ]
  },
  {
   "cell_type": "code",
   "execution_count": 15,
   "metadata": {},
   "outputs": [
    {
     "name": "stdout",
     "output_type": "stream",
     "text": [
      "(434244, 28)\n"
     ]
    },
    {
     "data": {
      "text/html": [
       "<div>\n",
       "<style scoped>\n",
       "    .dataframe tbody tr th:only-of-type {\n",
       "        vertical-align: middle;\n",
       "    }\n",
       "\n",
       "    .dataframe tbody tr th {\n",
       "        vertical-align: top;\n",
       "    }\n",
       "\n",
       "    .dataframe thead th {\n",
       "        text-align: right;\n",
       "    }\n",
       "</style>\n",
       "<table border=\"1\" class=\"dataframe\">\n",
       "  <thead>\n",
       "    <tr style=\"text-align: right;\">\n",
       "      <th></th>\n",
       "      <th>osversion</th>\n",
       "      <th>ostype(clean)</th>\n",
       "      <th>osversion(clean)</th>\n",
       "    </tr>\n",
       "  </thead>\n",
       "  <tbody>\n",
       "    <tr>\n",
       "      <td>0</td>\n",
       "      <td>iOS11.4.1</td>\n",
       "      <td>iOS</td>\n",
       "      <td>11.4.1</td>\n",
       "    </tr>\n",
       "    <tr>\n",
       "      <td>1</td>\n",
       "      <td>Android7.0</td>\n",
       "      <td>Android</td>\n",
       "      <td>7.0</td>\n",
       "    </tr>\n",
       "    <tr>\n",
       "      <td>2</td>\n",
       "      <td>iOS12.0</td>\n",
       "      <td>iOS</td>\n",
       "      <td>12.0</td>\n",
       "    </tr>\n",
       "    <tr>\n",
       "      <td>3</td>\n",
       "      <td>iOS11.4.1</td>\n",
       "      <td>iOS</td>\n",
       "      <td>11.4.1</td>\n",
       "    </tr>\n",
       "    <tr>\n",
       "      <td>4</td>\n",
       "      <td>iOS11.4.1</td>\n",
       "      <td>iOS</td>\n",
       "      <td>11.4.1</td>\n",
       "    </tr>\n",
       "  </tbody>\n",
       "</table>\n",
       "</div>"
      ],
      "text/plain": [
       "    osversion ostype(clean) osversion(clean)\n",
       "0   iOS11.4.1           iOS           11.4.1\n",
       "1  Android7.0       Android              7.0\n",
       "2     iOS12.0           iOS             12.0\n",
       "3   iOS11.4.1           iOS           11.4.1\n",
       "4   iOS11.4.1           iOS           11.4.1"
      ]
     },
     "execution_count": 15,
     "metadata": {},
     "output_type": "execute_result"
    }
   ],
   "source": [
    "raw_log[\"ostype(clean)\"] = raw_log[\"osversion\"].apply(find_ostype)\n",
    "raw_log[\"osversion(clean)\"] = raw_log[\"osversion\"].apply(find_osversion)\n",
    "\n",
    "print(raw_log.shape)\n",
    "\n",
    "raw_log[[\"osversion\", \"ostype(clean)\", \"osversion(clean)\"]].head()"
   ]
  },
  {
   "cell_type": "markdown",
   "metadata": {},
   "source": [
    "4."
   ]
  },
  {
   "cell_type": "code",
   "execution_count": 16,
   "metadata": {},
   "outputs": [],
   "source": [
    "def clean_devicemanufacturer(devicemanufacturer):\n",
    "    \n",
    "    if \"samsung\" in devicemanufacturer:\n",
    "        # s를 대문자(S)로 바꿔서 Samsung이라는 값을 반환해줍니다.\n",
    "        return \"Samsung\"\n",
    "    # 만일 devicemanufacturer 값에 LGE라는 값이 들어가 있으면\n",
    "    elif \"LGE\" in devicemanufacturer:\n",
    "        # LG라는 값을 반환해줍니다.\n",
    "        return \"LG\"\n",
    "    # 만일 devicemanufacturer 값에 LG Electronics라는 값이 들어가 있으면\n",
    "    elif \"LG Electronics\" in devicemanufacturer:\n",
    "        # 동일하게 LG라는 값을 반환해줍니다.\n",
    "        return \"LG\"\n",
    "    # 만일 devicemanufacturer 값에 Apple이라는 값이 들어가 있으면\n",
    "    elif \"Apple\" in devicemanufacturer:\n",
    "        # Apple이라는 값을 반환해줍니다.\n",
    "        return \"Apple\"\n",
    "    # 만일 이 모든 조건해 해당되지 않는다면\n",
    "    else:\n",
    "        # Other라는 값을 반환해줍니다.\n",
    "        return \"Other\""
   ]
  },
  {
   "cell_type": "code",
   "execution_count": 17,
   "metadata": {},
   "outputs": [
    {
     "data": {
      "text/plain": [
       "'Samsung'"
      ]
     },
     "execution_count": 17,
     "metadata": {},
     "output_type": "execute_result"
    }
   ],
   "source": [
    "clean_devicemanufacturer(\"samsung\")"
   ]
  },
  {
   "cell_type": "code",
   "execution_count": 18,
   "metadata": {},
   "outputs": [
    {
     "data": {
      "text/plain": [
       "'LG'"
      ]
     },
     "execution_count": 18,
     "metadata": {},
     "output_type": "execute_result"
    }
   ],
   "source": [
    "clean_devicemanufacturer(\"LGE\")"
   ]
  },
  {
   "cell_type": "code",
   "execution_count": 19,
   "metadata": {},
   "outputs": [
    {
     "data": {
      "text/plain": [
       "'LG'"
      ]
     },
     "execution_count": 19,
     "metadata": {},
     "output_type": "execute_result"
    }
   ],
   "source": [
    "clean_devicemanufacturer(\"LG Electronics\")"
   ]
  },
  {
   "cell_type": "code",
   "execution_count": 20,
   "metadata": {},
   "outputs": [
    {
     "data": {
      "text/plain": [
       "'Apple'"
      ]
     },
     "execution_count": 20,
     "metadata": {},
     "output_type": "execute_result"
    }
   ],
   "source": [
    "clean_devicemanufacturer(\"Apple\")"
   ]
  },
  {
   "cell_type": "code",
   "execution_count": 21,
   "metadata": {},
   "outputs": [
    {
     "name": "stdout",
     "output_type": "stream",
     "text": [
      "Other\n",
      "Other\n",
      "Other\n"
     ]
    }
   ],
   "source": [
    "print(clean_devicemanufacturer(\"Foxconn\"))\n",
    "print(clean_devicemanufacturer(\"PANTECH\"))\n",
    "print(clean_devicemanufacturer(\"HUAWEI\"))"
   ]
  },
  {
   "cell_type": "code",
   "execution_count": 22,
   "metadata": {},
   "outputs": [
    {
     "name": "stdout",
     "output_type": "stream",
     "text": [
      "(434244, 29)\n"
     ]
    },
    {
     "data": {
      "text/plain": [
       "Samsung    230313\n",
       "Apple      163566\n",
       "LG          32649\n",
       "Other        7716\n",
       "Name: devicemanufacturer(clean), dtype: int64"
      ]
     },
     "execution_count": 22,
     "metadata": {},
     "output_type": "execute_result"
    }
   ],
   "source": [
    "raw_log[\"devicemanufacturer(clean)\"] = raw_log[\"devicemanufacturer\"].apply(clean_devicemanufacturer)\n",
    "\n",
    "# raw_log 변수에 할당된 데이터의 행렬 사이즈를 출력합니다.\n",
    "# 출력은 (row, column) 으로 표시됩니다.\n",
    "print(raw_log.shape)\n",
    "\n",
    "# devicemanufacturer(clean)에 value_counts 함수를 사용해서\n",
    "# devicemanufacturer의 종류와 그 개수를 세서 출력합니다.\n",
    "raw_log[\"devicemanufacturer(clean)\"].value_counts()"
   ]
  },
  {
   "cell_type": "markdown",
   "metadata": {},
   "source": [
    "5."
   ]
  },
  {
   "cell_type": "code",
   "execution_count": null,
   "metadata": {},
   "outputs": [],
   "source": []
  },
  {
   "cell_type": "code",
   "execution_count": null,
   "metadata": {},
   "outputs": [],
   "source": []
  },
  {
   "cell_type": "code",
   "execution_count": null,
   "metadata": {},
   "outputs": [],
   "source": []
  },
  {
   "cell_type": "code",
   "execution_count": null,
   "metadata": {},
   "outputs": [],
   "source": []
  },
  {
   "cell_type": "code",
   "execution_count": null,
   "metadata": {},
   "outputs": [],
   "source": []
  },
  {
   "cell_type": "code",
   "execution_count": null,
   "metadata": {},
   "outputs": [],
   "source": []
  },
  {
   "cell_type": "code",
   "execution_count": null,
   "metadata": {},
   "outputs": [],
   "source": []
  },
  {
   "cell_type": "code",
   "execution_count": null,
   "metadata": {},
   "outputs": [],
   "source": []
  },
  {
   "cell_type": "code",
   "execution_count": null,
   "metadata": {},
   "outputs": [],
   "source": []
  },
  {
   "cell_type": "code",
   "execution_count": null,
   "metadata": {},
   "outputs": [],
   "source": []
  },
  {
   "cell_type": "code",
   "execution_count": null,
   "metadata": {},
   "outputs": [],
   "source": []
  },
  {
   "cell_type": "code",
   "execution_count": null,
   "metadata": {},
   "outputs": [],
   "source": []
  },
  {
   "cell_type": "code",
   "execution_count": null,
   "metadata": {},
   "outputs": [],
   "source": []
  }
 ],
 "metadata": {
  "kernelspec": {
   "display_name": "Python 3",
   "language": "python",
   "name": "python3"
  },
  "language_info": {
   "codemirror_mode": {
    "name": "ipython",
    "version": 3
   },
   "file_extension": ".py",
   "mimetype": "text/x-python",
   "name": "python",
   "nbconvert_exporter": "python",
   "pygments_lexer": "ipython3",
   "version": "3.6.6"
  }
 },
 "nbformat": 4,
 "nbformat_minor": 2
}
